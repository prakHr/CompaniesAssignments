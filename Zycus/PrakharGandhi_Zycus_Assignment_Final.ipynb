{
 "cells": [
  {
   "cell_type": "code",
   "execution_count": 1,
   "id": "5d10b3ec",
   "metadata": {},
   "outputs": [],
   "source": [
    "import os\n",
    "\n",
    "os.environ['OMP_NUM_THREADS'] = '1'\n",
    "# from datetime import datetime\n",
    "# import numpy as np\n",
    "# import pandas as pd\n",
    "import pandas as pd\n",
    "import numpy as np\n",
    "import matplotlib.pyplot as plt\n",
    "from datetime import datetime\n",
    "import plotly.express as px\n",
    "import matplotlib as mpl\n",
    "import seaborn as sns\n",
    "from sklearn.preprocessing import OneHotEncoder\n",
    "from sklearn.preprocessing import StandardScaler\n",
    "from scipy.sparse import coo_matrix, hstack, csr_matrix\n",
    "from sklearn.model_selection import train_test_split\n",
    "import scipy\n",
    "\n",
    "\n",
    "mpl.rcParams['figure.figsize'] = (10, 8)\n",
    "mpl.rcParams['axes.grid'] = False"
   ]
  },
  {
   "cell_type": "code",
   "execution_count": 2,
   "id": "4c71a8e7",
   "metadata": {},
   "outputs": [],
   "source": [
    "import pandas as pd\n",
    "import numpy as np\n",
    "from sklearn.feature_extraction.text import CountVectorizer\n",
    "from sklearn.model_selection import train_test_split\n",
    "from sklearn.naive_bayes import MultinomialNB\n",
    "from sklearn.metrics import accuracy_score\n",
    "from sklearn.metrics import classification_report\n",
    "from sklearn.metrics import f1_score"
   ]
  },
  {
   "cell_type": "code",
   "execution_count": 3,
   "id": "3846b57a",
   "metadata": {},
   "outputs": [],
   "source": [
    "# from hpsklearn import HyperoptEstimator\n",
    "# from hpsklearn import any_classifier\n",
    "# from hpsklearn import any_preprocessing\n",
    "# from hyperopt import tpe\n",
    "import pandas as pd\n",
    "import numpy as np\n",
    "import re\n",
    "import string\n",
    "#from nltk.corpus import stopwords\n",
    "#from nltk.tokenize import word_tokenize\n",
    "from sklearn.feature_extraction.text import TfidfVectorizer,CountVectorizer,TfidfTransformer\n",
    "from sklearn.model_selection import train_test_split\n",
    "#from nltk.stem import PorterStemmer\n",
    "#from nltk.stem import WordNetLemmatizer\n",
    "    # ML Libraries\n",
    "from sklearn.metrics import accuracy_score\n",
    "from sklearn.linear_model import LogisticRegression\n",
    "from sklearn.model_selection import GridSearchCV\n",
    "\n",
    "from sklearn.pipeline import make_pipeline\n",
    "from sklearn.preprocessing import StandardScaler\n",
    "from sklearn.ensemble import ExtraTreesClassifier"
   ]
  },
  {
   "cell_type": "code",
   "execution_count": 4,
   "id": "b329c0ff",
   "metadata": {},
   "outputs": [
    {
     "data": {
      "text/html": [
       "<div>\n",
       "<style scoped>\n",
       "    .dataframe tbody tr th:only-of-type {\n",
       "        vertical-align: middle;\n",
       "    }\n",
       "\n",
       "    .dataframe tbody tr th {\n",
       "        vertical-align: top;\n",
       "    }\n",
       "\n",
       "    .dataframe thead th {\n",
       "        text-align: right;\n",
       "    }\n",
       "</style>\n",
       "<table border=\"1\" class=\"dataframe\">\n",
       "  <thead>\n",
       "    <tr style=\"text-align: right;\">\n",
       "      <th></th>\n",
       "      <th>title</th>\n",
       "      <th>category</th>\n",
       "    </tr>\n",
       "  </thead>\n",
       "  <tbody>\n",
       "    <tr>\n",
       "      <th>0</th>\n",
       "      <td>The Three Amigos</td>\n",
       "      <td>None</td>\n",
       "    </tr>\n",
       "    <tr>\n",
       "      <th>1</th>\n",
       "      <td>Home Essentials Blue Floral Glass Vintage Styl...</td>\n",
       "      <td>Home &amp; Kitchen</td>\n",
       "    </tr>\n",
       "    <tr>\n",
       "      <th>2</th>\n",
       "      <td>Cooper Wiring Quiet Toggle Switch Single Pole ...</td>\n",
       "      <td>Tools &amp; Home Improvement</td>\n",
       "    </tr>\n",
       "    <tr>\n",
       "      <th>3</th>\n",
       "      <td>Baseboarders&amp;reg; Wall Brackets</td>\n",
       "      <td>Tools &amp; Home Improvement</td>\n",
       "    </tr>\n",
       "    <tr>\n",
       "      <th>4</th>\n",
       "      <td>The Great Wave Off Kanagawa Custom Rectangle M...</td>\n",
       "      <td>Office Products</td>\n",
       "    </tr>\n",
       "  </tbody>\n",
       "</table>\n",
       "</div>"
      ],
      "text/plain": [
       "                                               title                  category\n",
       "0                                   The Three Amigos                      None\n",
       "1  Home Essentials Blue Floral Glass Vintage Styl...            Home & Kitchen\n",
       "2  Cooper Wiring Quiet Toggle Switch Single Pole ...  Tools & Home Improvement\n",
       "3                    Baseboarders&reg; Wall Brackets  Tools & Home Improvement\n",
       "4  The Great Wave Off Kanagawa Custom Rectangle M...           Office Products"
      ]
     },
     "execution_count": 4,
     "metadata": {},
     "output_type": "execute_result"
    }
   ],
   "source": [
    "df = pd.read_csv('../Zycus/86b13d9a4b8e11ec/project/training_data.csv')\n",
    "df.head()"
   ]
  },
  {
   "cell_type": "code",
   "execution_count": 5,
   "id": "f316b72b",
   "metadata": {},
   "outputs": [
    {
     "data": {
      "text/html": [
       "<div>\n",
       "<style scoped>\n",
       "    .dataframe tbody tr th:only-of-type {\n",
       "        vertical-align: middle;\n",
       "    }\n",
       "\n",
       "    .dataframe tbody tr th {\n",
       "        vertical-align: top;\n",
       "    }\n",
       "\n",
       "    .dataframe thead th {\n",
       "        text-align: right;\n",
       "    }\n",
       "</style>\n",
       "<table border=\"1\" class=\"dataframe\">\n",
       "  <thead>\n",
       "    <tr style=\"text-align: right;\">\n",
       "      <th></th>\n",
       "      <th>category</th>\n",
       "    </tr>\n",
       "  </thead>\n",
       "  <tbody>\n",
       "    <tr>\n",
       "      <th>None</th>\n",
       "      <td>10123</td>\n",
       "    </tr>\n",
       "    <tr>\n",
       "      <th>Home &amp; Kitchen</th>\n",
       "      <td>4960</td>\n",
       "    </tr>\n",
       "    <tr>\n",
       "      <th>Tools &amp; Home Improvement</th>\n",
       "      <td>2080</td>\n",
       "    </tr>\n",
       "    <tr>\n",
       "      <th>Office Products</th>\n",
       "      <td>1144</td>\n",
       "    </tr>\n",
       "    <tr>\n",
       "      <th>Grocery &amp; Gourmet Food</th>\n",
       "      <td>1102</td>\n",
       "    </tr>\n",
       "    <tr>\n",
       "      <th>Industrial &amp; Scientific</th>\n",
       "      <td>588</td>\n",
       "    </tr>\n",
       "    <tr>\n",
       "      <th>Electronics</th>\n",
       "      <td>191</td>\n",
       "    </tr>\n",
       "  </tbody>\n",
       "</table>\n",
       "</div>"
      ],
      "text/plain": [
       "                          category\n",
       "None                         10123\n",
       "Home & Kitchen                4960\n",
       "Tools & Home Improvement      2080\n",
       "Office Products               1144\n",
       "Grocery & Gourmet Food        1102\n",
       "Industrial & Scientific        588\n",
       "Electronics                    191"
      ]
     },
     "execution_count": 5,
     "metadata": {},
     "output_type": "execute_result"
    }
   ],
   "source": [
    "df.category.value_counts().to_frame()"
   ]
  },
  {
   "cell_type": "code",
   "execution_count": 6,
   "id": "c828d977",
   "metadata": {},
   "outputs": [],
   "source": [
    "count_vec = CountVectorizer()\n",
    "bow = count_vec.fit_transform(df['title'])\n",
    "bow = np.array(bow.todense())"
   ]
  },
  {
   "cell_type": "code",
   "execution_count": 7,
   "id": "1ad7b170",
   "metadata": {},
   "outputs": [],
   "source": [
    "X = bow\n",
    "#X = df['title']\n",
    "y = df['category']\n"
   ]
  },
  {
   "cell_type": "code",
   "execution_count": 8,
   "id": "2e8f8926",
   "metadata": {},
   "outputs": [],
   "source": [
    "X_train, X_test, y_train, y_test = train_test_split(X, y, test_size=0.3, stratify=y)"
   ]
  },
  {
   "cell_type": "code",
   "execution_count": 9,
   "id": "f299f19e",
   "metadata": {},
   "outputs": [],
   "source": [
    "#  from sklearn.pipeline import Pipeline\n",
    "# # create pipeline\n",
    "# pipeline = Pipeline([\n",
    "#         ('bow', CountVectorizer(strip_accents='ascii',\n",
    "#                                 stop_words=['english'],\n",
    "#                                 lowercase=True)),  \n",
    "#         ('tfidf', TfidfTransformer()),  \n",
    "#         ('classifier', LogisticRegression(C=15.075475376884423,penalty=\"l2\")),\n",
    "#     ])\n",
    "    \n",
    "    \n",
    "#     # Parameter grid settings for LogisticRegression\n",
    "# parameters = {'bow__ngram_range': [(1, 1), (1, 2)],\n",
    "#                   'tfidf__use_idf': (True, False),\n",
    "                    \n",
    "#                  }\n",
    "# grid = GridSearchCV(pipeline, cv=10, param_grid=parameters, verbose=1,n_jobs=-1)\n",
    "# grid.fit(X_train,y_train)\n",
    "    \n",
    "# from sklearn.metrics import classification_report,confusion_matrix,accuracy_score\n",
    "#     #get predictions from best model above\n",
    "# y_preds = grid.predict(X_test)\n",
    "# cm = confusion_matrix(y_test, y_preds)\n",
    "    \n",
    "# print(\"accuracy score: \",accuracy_score(y_test,y_preds))\n",
    "# print(\"\\n\")\n",
    "# print(\"confusion matrix: \\n\",cm)\n",
    "# print(\"\\n\")\n",
    "# print(classification_report(y_test,y_preds))"
   ]
  },
  {
   "cell_type": "code",
   "execution_count": 10,
   "id": "2bf8a02c",
   "metadata": {},
   "outputs": [],
   "source": [
    "# model = HyperoptEstimator(classifier=any_classifier('cla'), preprocessing=any_preprocessing('pre'), algo=tpe.suggest, max_evals=2)\n",
    "# # perform the search\n",
    "# model.fit(X_train, y_train)\n",
    "# # summarize performance\n",
    "# acc = model.score(X_test, y_test)\n",
    "# print(\"Accuracy: %.3f\" % acc)\n",
    "# # summarize the best model\n",
    "# print(model.best_model())"
   ]
  },
  {
   "cell_type": "code",
   "execution_count": null,
   "id": "e74d4e8e",
   "metadata": {},
   "outputs": [],
   "source": [
    "#model = LogisticRegression().fit(X_train, y_train)\n",
    "model = ExtraTreesClassifier().fit(X_train, y_train)\n",
    "# model = make_pipeline(StandardScaler(), LogisticRegression())\n",
    "# model.fit(X_train, y_train) \n",
    "# print(model.score(X_test, y_test))"
   ]
  },
  {
   "cell_type": "code",
   "execution_count": null,
   "id": "76aef962",
   "metadata": {},
   "outputs": [],
   "source": [
    "df2 = pd.read_csv('../Zycus/86b13d9a4b8e11ec/project/testing_data.csv')\n",
    "bow_test = count_vec.transform(df2['title'])"
   ]
  },
  {
   "cell_type": "code",
   "execution_count": null,
   "id": "21f4c8fe",
   "metadata": {},
   "outputs": [],
   "source": [
    "y_pred2=model.predict(bow_test)"
   ]
  },
  {
   "cell_type": "code",
   "execution_count": null,
   "id": "80ebe415",
   "metadata": {},
   "outputs": [],
   "source": [
    "y_pred2"
   ]
  },
  {
   "cell_type": "code",
   "execution_count": null,
   "id": "41d596b3",
   "metadata": {},
   "outputs": [],
   "source": [
    "y_pred = model.predict(X_test)"
   ]
  },
  {
   "cell_type": "code",
   "execution_count": null,
   "id": "405b800c",
   "metadata": {},
   "outputs": [],
   "source": [
    "f1_score(y_test, y_pred, average=\"macro\")"
   ]
  },
  {
   "cell_type": "code",
   "execution_count": null,
   "id": "7165e074",
   "metadata": {},
   "outputs": [],
   "source": [
    "print(classification_report(y_test, y_pred))"
   ]
  },
  {
   "cell_type": "code",
   "execution_count": null,
   "id": "d70e93c0",
   "metadata": {},
   "outputs": [],
   "source": [
    "# results = pd.DataFrame(data={'predicted': y_pred, 'actual': y_test})\n",
    "# results['result'] = np.where(results['predicted']==results['actual'], 1, 0)\n",
    "# results.sort_values(by='result').head(20)"
   ]
  },
  {
   "cell_type": "code",
   "execution_count": null,
   "id": "24871912",
   "metadata": {},
   "outputs": [],
   "source": [
    "results=pd.DataFrame(data={'predicted':y_pred2})\n",
    "results.head(20)"
   ]
  },
  {
   "cell_type": "code",
   "execution_count": null,
   "id": "0c32ac54",
   "metadata": {},
   "outputs": [],
   "source": [
    "df.to_csv('predicted_results.csv')"
   ]
  },
  {
   "cell_type": "code",
   "execution_count": null,
   "id": "9f492059",
   "metadata": {},
   "outputs": [],
   "source": []
  }
 ],
 "metadata": {
  "kernelspec": {
   "display_name": "Python 3",
   "language": "python",
   "name": "python3"
  },
  "language_info": {
   "codemirror_mode": {
    "name": "ipython",
    "version": 3
   },
   "file_extension": ".py",
   "mimetype": "text/x-python",
   "name": "python",
   "nbconvert_exporter": "python",
   "pygments_lexer": "ipython3",
   "version": "3.6.13"
  }
 },
 "nbformat": 4,
 "nbformat_minor": 5
}
