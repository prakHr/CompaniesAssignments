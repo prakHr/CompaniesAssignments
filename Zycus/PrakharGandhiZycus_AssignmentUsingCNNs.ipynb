{
 "cells": [
  {
   "cell_type": "code",
   "execution_count": 1,
   "id": "bcd9af08",
   "metadata": {},
   "outputs": [
    {
     "name": "stderr",
     "output_type": "stream",
     "text": [
      "C:\\Users\\gprak\\anaconda3\\envs\\my36v2\\lib\\site-packages\\tensorflow\\python\\framework\\dtypes.py:516: FutureWarning: Passing (type, 1) or '1type' as a synonym of type is deprecated; in a future version of numpy, it will be understood as (type, (1,)) / '(1,)type'.\n",
      "  _np_qint8 = np.dtype([(\"qint8\", np.int8, 1)])\n",
      "C:\\Users\\gprak\\anaconda3\\envs\\my36v2\\lib\\site-packages\\tensorflow\\python\\framework\\dtypes.py:517: FutureWarning: Passing (type, 1) or '1type' as a synonym of type is deprecated; in a future version of numpy, it will be understood as (type, (1,)) / '(1,)type'.\n",
      "  _np_quint8 = np.dtype([(\"quint8\", np.uint8, 1)])\n",
      "C:\\Users\\gprak\\anaconda3\\envs\\my36v2\\lib\\site-packages\\tensorflow\\python\\framework\\dtypes.py:518: FutureWarning: Passing (type, 1) or '1type' as a synonym of type is deprecated; in a future version of numpy, it will be understood as (type, (1,)) / '(1,)type'.\n",
      "  _np_qint16 = np.dtype([(\"qint16\", np.int16, 1)])\n",
      "C:\\Users\\gprak\\anaconda3\\envs\\my36v2\\lib\\site-packages\\tensorflow\\python\\framework\\dtypes.py:519: FutureWarning: Passing (type, 1) or '1type' as a synonym of type is deprecated; in a future version of numpy, it will be understood as (type, (1,)) / '(1,)type'.\n",
      "  _np_quint16 = np.dtype([(\"quint16\", np.uint16, 1)])\n",
      "C:\\Users\\gprak\\anaconda3\\envs\\my36v2\\lib\\site-packages\\tensorflow\\python\\framework\\dtypes.py:520: FutureWarning: Passing (type, 1) or '1type' as a synonym of type is deprecated; in a future version of numpy, it will be understood as (type, (1,)) / '(1,)type'.\n",
      "  _np_qint32 = np.dtype([(\"qint32\", np.int32, 1)])\n",
      "C:\\Users\\gprak\\anaconda3\\envs\\my36v2\\lib\\site-packages\\tensorflow\\python\\framework\\dtypes.py:525: FutureWarning: Passing (type, 1) or '1type' as a synonym of type is deprecated; in a future version of numpy, it will be understood as (type, (1,)) / '(1,)type'.\n",
      "  np_resource = np.dtype([(\"resource\", np.ubyte, 1)])\n",
      "C:\\Users\\gprak\\anaconda3\\envs\\my36v2\\lib\\site-packages\\tensorboard\\compat\\tensorflow_stub\\dtypes.py:541: FutureWarning: Passing (type, 1) or '1type' as a synonym of type is deprecated; in a future version of numpy, it will be understood as (type, (1,)) / '(1,)type'.\n",
      "  _np_qint8 = np.dtype([(\"qint8\", np.int8, 1)])\n",
      "C:\\Users\\gprak\\anaconda3\\envs\\my36v2\\lib\\site-packages\\tensorboard\\compat\\tensorflow_stub\\dtypes.py:542: FutureWarning: Passing (type, 1) or '1type' as a synonym of type is deprecated; in a future version of numpy, it will be understood as (type, (1,)) / '(1,)type'.\n",
      "  _np_quint8 = np.dtype([(\"quint8\", np.uint8, 1)])\n",
      "C:\\Users\\gprak\\anaconda3\\envs\\my36v2\\lib\\site-packages\\tensorboard\\compat\\tensorflow_stub\\dtypes.py:543: FutureWarning: Passing (type, 1) or '1type' as a synonym of type is deprecated; in a future version of numpy, it will be understood as (type, (1,)) / '(1,)type'.\n",
      "  _np_qint16 = np.dtype([(\"qint16\", np.int16, 1)])\n",
      "C:\\Users\\gprak\\anaconda3\\envs\\my36v2\\lib\\site-packages\\tensorboard\\compat\\tensorflow_stub\\dtypes.py:544: FutureWarning: Passing (type, 1) or '1type' as a synonym of type is deprecated; in a future version of numpy, it will be understood as (type, (1,)) / '(1,)type'.\n",
      "  _np_quint16 = np.dtype([(\"quint16\", np.uint16, 1)])\n",
      "C:\\Users\\gprak\\anaconda3\\envs\\my36v2\\lib\\site-packages\\tensorboard\\compat\\tensorflow_stub\\dtypes.py:545: FutureWarning: Passing (type, 1) or '1type' as a synonym of type is deprecated; in a future version of numpy, it will be understood as (type, (1,)) / '(1,)type'.\n",
      "  _np_qint32 = np.dtype([(\"qint32\", np.int32, 1)])\n",
      "C:\\Users\\gprak\\anaconda3\\envs\\my36v2\\lib\\site-packages\\tensorboard\\compat\\tensorflow_stub\\dtypes.py:550: FutureWarning: Passing (type, 1) or '1type' as a synonym of type is deprecated; in a future version of numpy, it will be understood as (type, (1,)) / '(1,)type'.\n",
      "  np_resource = np.dtype([(\"resource\", np.ubyte, 1)])\n",
      "Using TensorFlow backend.\n"
     ]
    }
   ],
   "source": [
    "import numpy as np\n",
    "import pandas as pd\n",
    "import matplotlib.pyplot as plt\n",
    "%matplotlib inline\n",
    "\n",
    "from sklearn.model_selection import train_test_split\n",
    "from sklearn.preprocessing import LabelBinarizer, LabelEncoder\n",
    "from sklearn.metrics import confusion_matrix\n",
    "\n",
    "import tensorflow as tf\n",
    "import keras\n",
    "from keras.models import Sequential\n",
    "from keras.layers import Dense, Flatten, Activation, Dropout, GlobalMaxPool1D, Conv1D\n",
    "from keras.layers.embeddings import Embedding\n",
    "from keras.preprocessing import text, sequence\n",
    "from keras.preprocessing.text import Tokenizer\n",
    "from keras.preprocessing.sequence import pad_sequences\n",
    "from keras import utils"
   ]
  },
  {
   "cell_type": "code",
   "execution_count": 2,
   "id": "a992afbe",
   "metadata": {},
   "outputs": [
    {
     "data": {
      "text/html": [
       "<div>\n",
       "<style scoped>\n",
       "    .dataframe tbody tr th:only-of-type {\n",
       "        vertical-align: middle;\n",
       "    }\n",
       "\n",
       "    .dataframe tbody tr th {\n",
       "        vertical-align: top;\n",
       "    }\n",
       "\n",
       "    .dataframe thead th {\n",
       "        text-align: right;\n",
       "    }\n",
       "</style>\n",
       "<table border=\"1\" class=\"dataframe\">\n",
       "  <thead>\n",
       "    <tr style=\"text-align: right;\">\n",
       "      <th></th>\n",
       "      <th>title</th>\n",
       "      <th>category</th>\n",
       "    </tr>\n",
       "  </thead>\n",
       "  <tbody>\n",
       "    <tr>\n",
       "      <th>0</th>\n",
       "      <td>The Three Amigos</td>\n",
       "      <td>None</td>\n",
       "    </tr>\n",
       "    <tr>\n",
       "      <th>1</th>\n",
       "      <td>Home Essentials Blue Floral Glass Vintage Styl...</td>\n",
       "      <td>Home &amp; Kitchen</td>\n",
       "    </tr>\n",
       "    <tr>\n",
       "      <th>2</th>\n",
       "      <td>Cooper Wiring Quiet Toggle Switch Single Pole ...</td>\n",
       "      <td>Tools &amp; Home Improvement</td>\n",
       "    </tr>\n",
       "    <tr>\n",
       "      <th>3</th>\n",
       "      <td>Baseboarders&amp;reg; Wall Brackets</td>\n",
       "      <td>Tools &amp; Home Improvement</td>\n",
       "    </tr>\n",
       "    <tr>\n",
       "      <th>4</th>\n",
       "      <td>The Great Wave Off Kanagawa Custom Rectangle M...</td>\n",
       "      <td>Office Products</td>\n",
       "    </tr>\n",
       "  </tbody>\n",
       "</table>\n",
       "</div>"
      ],
      "text/plain": [
       "                                               title                  category\n",
       "0                                   The Three Amigos                      None\n",
       "1  Home Essentials Blue Floral Glass Vintage Styl...            Home & Kitchen\n",
       "2  Cooper Wiring Quiet Toggle Switch Single Pole ...  Tools & Home Improvement\n",
       "3                    Baseboarders&reg; Wall Brackets  Tools & Home Improvement\n",
       "4  The Great Wave Off Kanagawa Custom Rectangle M...           Office Products"
      ]
     },
     "execution_count": 2,
     "metadata": {},
     "output_type": "execute_result"
    }
   ],
   "source": [
    "df = pd.read_csv('../Zycus/86b13d9a4b8e11ec/project/training_data.csv')\n",
    "df.head()"
   ]
  },
  {
   "cell_type": "code",
   "execution_count": 3,
   "id": "b0653586",
   "metadata": {},
   "outputs": [
    {
     "data": {
      "text/plain": [
       "(20188, 2)"
      ]
     },
     "execution_count": 3,
     "metadata": {},
     "output_type": "execute_result"
    }
   ],
   "source": [
    "df.shape"
   ]
  },
  {
   "cell_type": "code",
   "execution_count": 4,
   "id": "ff08ce25",
   "metadata": {},
   "outputs": [
    {
     "data": {
      "text/plain": [
       "Index(['title', 'category'], dtype='object')"
      ]
     },
     "execution_count": 4,
     "metadata": {},
     "output_type": "execute_result"
    }
   ],
   "source": [
    "df.columns"
   ]
  },
  {
   "cell_type": "code",
   "execution_count": 5,
   "id": "2daeeddc",
   "metadata": {},
   "outputs": [],
   "source": [
    "sentences = df['title']\n",
    "y = df['category']\n",
    "\n",
    "sentences_train, sentences_test, train_y, test_y = train_test_split(sentences, y, test_size=0.25, random_state=42)"
   ]
  },
  {
   "cell_type": "code",
   "execution_count": 6,
   "id": "2069108d",
   "metadata": {},
   "outputs": [
    {
     "name": "stdout",
     "output_type": "stream",
     "text": [
      "Cooper Wiring Quiet Toggle Switch Single Pole Lighted 15 A 120 V Ivory Ul Boxed\n",
      "[136, 276, 87, 51, 224, 21, 224, 10, 220]\n"
     ]
    }
   ],
   "source": [
    "tokenize = Tokenizer(num_words=1000)\n",
    "tokenize.fit_on_texts(sentences_train)\n",
    "\n",
    "X_train = tokenize.texts_to_sequences(sentences_train)\n",
    "X_test = tokenize.texts_to_sequences(sentences_test)\n",
    "\n",
    "vocab_size = len(tokenize.word_index) + 1  \n",
    "\n",
    "print(sentences_train[2])\n",
    "print(X_train[2])"
   ]
  },
  {
   "cell_type": "code",
   "execution_count": 7,
   "id": "ff49529a",
   "metadata": {},
   "outputs": [
    {
     "name": "stdout",
     "output_type": "stream",
     "text": [
      "[409 160 104  77 136  76  47  51  68  69   0   0   0   0   0   0   0   0\n",
      "   0   0   0   0   0   0   0   0   0   0   0   0   0   0   0   0   0   0\n",
      "   0   0   0   0   0   0   0   0   0   0   0   0   0   0   0   0   0   0\n",
      "   0   0   0   0   0   0   0   0   0   0   0   0   0   0   0   0   0   0\n",
      "   0   0   0   0   0   0   0   0   0   0   0   0   0   0   0   0   0   0\n",
      "   0   0   0   0   0   0   0   0   0   0]\n"
     ]
    }
   ],
   "source": [
    "maxlen = 100\n",
    "\n",
    "X_train = pad_sequences(X_train, padding='post', maxlen=maxlen)\n",
    "X_test = pad_sequences(X_test, padding='post', maxlen=maxlen)\n",
    "\n",
    "print(X_train[0, :])"
   ]
  },
  {
   "cell_type": "code",
   "execution_count": 8,
   "id": "ac81615b",
   "metadata": {},
   "outputs": [
    {
     "name": "stdout",
     "output_type": "stream",
     "text": [
      "7\n"
     ]
    }
   ],
   "source": [
    "encoder = LabelEncoder()\n",
    "encoder.fit(train_y)\n",
    "y_train = encoder.transform(train_y)\n",
    "y_test = encoder.transform(test_y)\n",
    "\n",
    "num_classes = np.max(y_train) + 1\n",
    "print(num_classes)\n",
    "y_train = utils.to_categorical(y_train, num_classes)\n",
    "y_test = utils.to_categorical(y_test, num_classes)"
   ]
  },
  {
   "cell_type": "code",
   "execution_count": 13,
   "id": "9bff7ac7",
   "metadata": {},
   "outputs": [
    {
     "name": "stdout",
     "output_type": "stream",
     "text": [
      "Model: \"sequential_2\"\n",
      "_________________________________________________________________\n",
      "Layer (type)                 Output Shape              Param #   \n",
      "=================================================================\n",
      "embedding_2 (Embedding)      (None, 100, 16)           450048    \n",
      "_________________________________________________________________\n",
      "flatten_2 (Flatten)          (None, 1600)              0         \n",
      "_________________________________________________________________\n",
      "dense_3 (Dense)              (None, 16)                25616     \n",
      "_________________________________________________________________\n",
      "dense_4 (Dense)              (None, 7)                 119       \n",
      "=================================================================\n",
      "Total params: 475,783\n",
      "Trainable params: 475,783\n",
      "Non-trainable params: 0\n",
      "_________________________________________________________________\n"
     ]
    }
   ],
   "source": [
    "embedding_dim = 16\n",
    "\n",
    "model = Sequential()\n",
    "model.add(Embedding(input_dim=vocab_size, output_dim=embedding_dim, input_length=maxlen))\n",
    "model.add(Flatten())\n",
    "model.add(Dense(16, activation='relu'))\n",
    "model.add(Dense(7, activation='softmax'))\n",
    "\n",
    "model.compile(optimizer='adam',\n",
    "              loss='categorical_crossentropy',\n",
    "              metrics=['accuracy'])\n",
    "model.summary()"
   ]
  },
  {
   "cell_type": "code",
   "execution_count": 14,
   "id": "60b929d4",
   "metadata": {},
   "outputs": [],
   "source": [
    "#from keras.utils import plot_model\n",
    "#plot_model(model, to_file='model_1.png', show_shapes=True, show_layer_names=True)"
   ]
  },
  {
   "cell_type": "code",
   "execution_count": 15,
   "id": "3e0b1284",
   "metadata": {},
   "outputs": [],
   "source": [
    "#!pip install pydot"
   ]
  },
  {
   "cell_type": "code",
   "execution_count": 16,
   "id": "47d5e67b",
   "metadata": {},
   "outputs": [
    {
     "name": "stdout",
     "output_type": "stream",
     "text": [
      "WARNING:tensorflow:From C:\\Users\\gprak\\anaconda3\\envs\\my36v2\\lib\\site-packages\\keras\\backend\\tensorflow_backend.py:422: The name tf.global_variables is deprecated. Please use tf.compat.v1.global_variables instead.\n",
      "\n",
      "Train on 15141 samples, validate on 5047 samples\n",
      "Epoch 1/15\n",
      "15141/15141 [==============================] - 6s 389us/step - loss: 1.3893 - accuracy: 0.4992 - val_loss: 1.2978 - val_accuracy: 0.5047\n",
      "Epoch 2/15\n",
      "15141/15141 [==============================] - 6s 364us/step - loss: 1.2094 - accuracy: 0.5099 - val_loss: 1.1886 - val_accuracy: 0.4944\n",
      "Epoch 3/15\n",
      "15141/15141 [==============================] - 6s 368us/step - loss: 1.1189 - accuracy: 0.5263 - val_loss: 1.1635 - val_accuracy: 0.4860\n",
      "Epoch 4/15\n",
      "15141/15141 [==============================] - 6s 366us/step - loss: 1.0590 - accuracy: 0.5430 - val_loss: 1.1405 - val_accuracy: 0.4882\n",
      "Epoch 5/15\n",
      "15141/15141 [==============================] - 6s 364us/step - loss: 1.0013 - accuracy: 0.5617 - val_loss: 1.1394 - val_accuracy: 0.4835\n",
      "Epoch 6/15\n",
      "15141/15141 [==============================] - 6s 365us/step - loss: 0.9524 - accuracy: 0.5840 - val_loss: 1.1385 - val_accuracy: 0.4864\n",
      "Epoch 7/15\n",
      "15141/15141 [==============================] - 6s 367us/step - loss: 0.9089 - accuracy: 0.6048 - val_loss: 1.1540 - val_accuracy: 0.4850\n",
      "Epoch 8/15\n",
      "15141/15141 [==============================] - 6s 368us/step - loss: 0.8689 - accuracy: 0.6233 - val_loss: 1.1854 - val_accuracy: 0.4716\n",
      "Epoch 9/15\n",
      "15141/15141 [==============================] - 6s 367us/step - loss: 0.8323 - accuracy: 0.6441 - val_loss: 1.2063 - val_accuracy: 0.4745\n",
      "Epoch 10/15\n",
      "15141/15141 [==============================] - 6s 367us/step - loss: 0.7952 - accuracy: 0.6606 - val_loss: 1.2354 - val_accuracy: 0.4672\n",
      "Epoch 11/15\n",
      "15141/15141 [==============================] - 6s 368us/step - loss: 0.7595 - accuracy: 0.6821 - val_loss: 1.2845 - val_accuracy: 0.4619\n",
      "Epoch 12/15\n",
      "15141/15141 [==============================] - 6s 369us/step - loss: 0.7249 - accuracy: 0.6990 - val_loss: 1.3287 - val_accuracy: 0.4640\n",
      "Epoch 13/15\n",
      "15141/15141 [==============================] - 6s 366us/step - loss: 0.6914 - accuracy: 0.7183 - val_loss: 1.3710 - val_accuracy: 0.4611\n",
      "Epoch 14/15\n",
      "15141/15141 [==============================] - 6s 366us/step - loss: 0.6594 - accuracy: 0.7350 - val_loss: 1.4425 - val_accuracy: 0.4593\n",
      "Epoch 15/15\n",
      "15141/15141 [==============================] - 6s 365us/step - loss: 0.6331 - accuracy: 0.7475 - val_loss: 1.4669 - val_accuracy: 0.4500\n"
     ]
    }
   ],
   "source": [
    "history = model.fit(X_train, y_train,\n",
    "                    batch_size=32,\n",
    "                    epochs=15,\n",
    "                    validation_data=(X_test, y_test))"
   ]
  },
  {
   "cell_type": "code",
   "execution_count": 17,
   "id": "2677e3ff",
   "metadata": {},
   "outputs": [
    {
     "name": "stdout",
     "output_type": "stream",
     "text": [
      "Training Accuracy: 0.7865\n",
      "Testing Accuracy:  0.4500\n"
     ]
    }
   ],
   "source": [
    "loss, accuracy = model.evaluate(X_train, y_train, verbose=False)\n",
    "print(\"Training Accuracy: {:.4f}\".format(accuracy))\n",
    "loss, accuracy = model.evaluate(X_test, y_test, verbose=False)\n",
    "print(\"Testing Accuracy:  {:.4f}\".format(accuracy))"
   ]
  },
  {
   "cell_type": "code",
   "execution_count": 18,
   "id": "cb927659",
   "metadata": {},
   "outputs": [
    {
     "data": {
      "image/png": "[encoded data removed]",
      "text/plain": [
       "<Figure size 432x288 with 1 Axes>"
      ]
     },
     "metadata": {
      "needs_background": "light"
     },
     "output_type": "display_data"
    },
    {
     "data": {
      "image/png": "[encoded data removed]",
      "text/plain": [
       "<Figure size 432x288 with 1 Axes>"
      ]
     },
     "metadata": {
      "needs_background": "light"
     },
     "output_type": "display_data"
    }
   ],
   "source": [
    "def plot_graphs(history, string):\n",
    "    plt.plot(history.history[string])\n",
    "    plt.plot(history.history['val_'+string])\n",
    "    plt.xlabel(\"Epochs\")\n",
    "    plt.ylabel(string)\n",
    "    plt.legend([string, 'val_'+string])\n",
    "    plt.show()\n",
    "\n",
    "plot_graphs(history, \"accuracy\")\n",
    "plot_graphs(history, \"loss\")"
   ]
  },
  {
   "cell_type": "code",
   "execution_count": 21,
   "id": "79c05b59",
   "metadata": {},
   "outputs": [
    {
     "name": "stdout",
     "output_type": "stream",
     "text": [
      "Model: \"sequential_4\"\n",
      "_________________________________________________________________\n",
      "Layer (type)                 Output Shape              Param #   \n",
      "=================================================================\n",
      "embedding_4 (Embedding)      (None, 100, 16)           450048    \n",
      "_________________________________________________________________\n",
      "flatten_4 (Flatten)          (None, 1600)              0         \n",
      "_________________________________________________________________\n",
      "dense_7 (Dense)              (None, 16)                25616     \n",
      "_________________________________________________________________\n",
      "dropout_2 (Dropout)          (None, 16)                0         \n",
      "_________________________________________________________________\n",
      "dense_8 (Dense)              (None, 7)                 119       \n",
      "=================================================================\n",
      "Total params: 475,783\n",
      "Trainable params: 475,783\n",
      "Non-trainable params: 0\n",
      "_________________________________________________________________\n"
     ]
    }
   ],
   "source": [
    "model2 = Sequential()\n",
    "model2.add(Embedding(input_dim=vocab_size, output_dim=embedding_dim, input_length=maxlen))\n",
    "model2.add(Flatten())\n",
    "model2.add(Dense(16, activation='relu'))\n",
    "model2.add(Dropout(0.5))\n",
    "model2.add(Dense(7, activation='softmax'))\n",
    "\n",
    "model2.compile(optimizer='adam',\n",
    "              loss='categorical_crossentropy',\n",
    "              metrics=['accuracy'])\n",
    "model2.summary()"
   ]
  },
  {
   "cell_type": "code",
   "execution_count": 22,
   "id": "e10fc3b5",
   "metadata": {},
   "outputs": [
    {
     "name": "stdout",
     "output_type": "stream",
     "text": [
      "Train on 15141 samples, validate on 5047 samples\n",
      "Epoch 1/15\n",
      "15141/15141 [==============================] - 6s 389us/step - loss: 1.5241 - accuracy: 0.4811 - val_loss: 1.3500 - val_accuracy: 0.5041\n",
      "Epoch 2/15\n",
      "15141/15141 [==============================] - 5s 357us/step - loss: 1.3391 - accuracy: 0.5010 - val_loss: 1.2435 - val_accuracy: 0.5031\n",
      "Epoch 3/15\n",
      "15141/15141 [==============================] - 5s 351us/step - loss: 1.2568 - accuracy: 0.5010 - val_loss: 1.1922 - val_accuracy: 0.5033\n",
      "Epoch 4/15\n",
      "15141/15141 [==============================] - 5s 346us/step - loss: 1.1797 - accuracy: 0.5018 - val_loss: 1.1447 - val_accuracy: 0.4961\n",
      "Epoch 5/15\n",
      "15141/15141 [==============================] - 5s 350us/step - loss: 1.1175 - accuracy: 0.5074 - val_loss: 1.1084 - val_accuracy: 0.4967\n",
      "Epoch 6/15\n",
      "15141/15141 [==============================] - 5s 349us/step - loss: 1.0682 - accuracy: 0.5156 - val_loss: 1.0996 - val_accuracy: 0.5023\n",
      "Epoch 7/15\n",
      "15141/15141 [==============================] - 5s 354us/step - loss: 1.0325 - accuracy: 0.5223 - val_loss: 1.1114 - val_accuracy: 0.5035\n",
      "Epoch 8/15\n",
      "15141/15141 [==============================] - 5s 348us/step - loss: 0.9999 - accuracy: 0.5291 - val_loss: 1.1090 - val_accuracy: 0.4856\n",
      "Epoch 9/15\n",
      "15141/15141 [==============================] - 5s 352us/step - loss: 0.9686 - accuracy: 0.5464 - val_loss: 1.1243 - val_accuracy: 0.4942\n",
      "Epoch 10/15\n",
      "15141/15141 [==============================] - 5s 350us/step - loss: 0.9396 - accuracy: 0.5653 - val_loss: 1.1521 - val_accuracy: 0.4864\n",
      "Epoch 11/15\n",
      "15141/15141 [==============================] - 5s 350us/step - loss: 0.9103 - accuracy: 0.5745 - val_loss: 1.1689 - val_accuracy: 0.4926\n",
      "Epoch 12/15\n",
      "15141/15141 [==============================] - 5s 352us/step - loss: 0.8852 - accuracy: 0.5924 - val_loss: 1.2026 - val_accuracy: 0.4880\n",
      "Epoch 13/15\n",
      "15141/15141 [==============================] - 5s 351us/step - loss: 0.8673 - accuracy: 0.6022 - val_loss: 1.2517 - val_accuracy: 0.4844\n",
      "Epoch 14/15\n",
      "15141/15141 [==============================] - 5s 354us/step - loss: 0.8432 - accuracy: 0.6132 - val_loss: 1.2782 - val_accuracy: 0.4773\n",
      "Epoch 15/15\n",
      "15141/15141 [==============================] - 5s 348us/step - loss: 0.8225 - accuracy: 0.6251 - val_loss: 1.3197 - val_accuracy: 0.4741\n"
     ]
    }
   ],
   "source": [
    "history_two = model2.fit(X_train, y_train,\n",
    "                        batch_size=32,\n",
    "                        epochs=15,\n",
    "                        validation_data=(X_test, y_test))"
   ]
  },
  {
   "cell_type": "code",
   "execution_count": 23,
   "id": "b30d2ccc",
   "metadata": {},
   "outputs": [
    {
     "name": "stdout",
     "output_type": "stream",
     "text": [
      "Training Accuracy: 0.7039\n",
      "Testing Accuracy:  0.4741\n"
     ]
    }
   ],
   "source": [
    "loss, accuracy = model2.evaluate(X_train, y_train, verbose=False)\n",
    "print(\"Training Accuracy: {:.4f}\".format(accuracy))\n",
    "loss, accuracy = model2.evaluate(X_test, y_test, verbose=False)\n",
    "print(\"Testing Accuracy:  {:.4f}\".format(accuracy))"
   ]
  },
  {
   "cell_type": "code",
   "execution_count": 24,
   "id": "c02e6843",
   "metadata": {},
   "outputs": [
    {
     "data": {
      "image/png": "[encoded data removed]",
      "text/plain": [
       "<Figure size 432x288 with 1 Axes>"
      ]
     },
     "metadata": {
      "needs_background": "light"
     },
     "output_type": "display_data"
    },
    {
     "data": {
      "image/png": "[encoded data removed]",
      "text/plain": [
       "<Figure size 432x288 with 1 Axes>"
      ]
     },
     "metadata": {
      "needs_background": "light"
     },
     "output_type": "display_data"
    }
   ],
   "source": [
    "plot_graphs(history_two, \"accuracy\")\n",
    "plot_graphs(history_two, \"loss\")"
   ]
  },
  {
   "cell_type": "code",
   "execution_count": 25,
   "id": "fd88d850",
   "metadata": {},
   "outputs": [
    {
     "name": "stdout",
     "output_type": "stream",
     "text": [
      "Model: \"sequential_5\"\n",
      "_________________________________________________________________\n",
      "Layer (type)                 Output Shape              Param #   \n",
      "=================================================================\n",
      "embedding_5 (Embedding)      (None, 100, 50)           1406400   \n",
      "_________________________________________________________________\n",
      "global_max_pooling1d_1 (Glob (None, 50)                0         \n",
      "_________________________________________________________________\n",
      "dense_9 (Dense)              (None, 16)                816       \n",
      "_________________________________________________________________\n",
      "dense_10 (Dense)             (None, 7)                 119       \n",
      "=================================================================\n",
      "Total params: 1,407,335\n",
      "Trainable params: 1,407,335\n",
      "Non-trainable params: 0\n",
      "_________________________________________________________________\n"
     ]
    }
   ],
   "source": [
    "embedding_dim = 50\n",
    "\n",
    "model3 = Sequential()\n",
    "model3.add(Embedding(input_dim=vocab_size, output_dim=embedding_dim, input_length=maxlen))\n",
    "model3.add(GlobalMaxPool1D())\n",
    "model3.add(Dense(16, activation='relu'))\n",
    "model3.add(Dense(7, activation='softmax'))\n",
    "\n",
    "model3.compile(optimizer='adam',\n",
    "               loss='categorical_crossentropy',\n",
    "               metrics=['accuracy'])\n",
    "\n",
    "model3.summary()"
   ]
  },
  {
   "cell_type": "code",
   "execution_count": 26,
   "id": "6ee60b9b",
   "metadata": {},
   "outputs": [
    {
     "name": "stdout",
     "output_type": "stream",
     "text": [
      "Train on 15141 samples, validate on 5047 samples\n",
      "Epoch 1/15\n",
      "15141/15141 [==============================] - 12s 774us/step - loss: 1.4293 - accuracy: 0.4964 - val_loss: 1.2717 - val_accuracy: 0.5001\n",
      "Epoch 2/15\n",
      "15141/15141 [==============================] - 11s 758us/step - loss: 1.2095 - accuracy: 0.5077 - val_loss: 1.1732 - val_accuracy: 0.4961\n",
      "Epoch 3/15\n",
      "15141/15141 [==============================] - 11s 747us/step - loss: 1.1036 - accuracy: 0.5279 - val_loss: 1.1341 - val_accuracy: 0.4942\n",
      "Epoch 4/15\n",
      "15141/15141 [==============================] - 11s 737us/step - loss: 1.0280 - accuracy: 0.5494 - val_loss: 1.1069 - val_accuracy: 0.4989\n",
      "Epoch 5/15\n",
      "15141/15141 [==============================] - 12s 761us/step - loss: 0.9599 - accuracy: 0.5694 - val_loss: 1.1014 - val_accuracy: 0.4977\n",
      "Epoch 6/15\n",
      "15141/15141 [==============================] - 12s 760us/step - loss: 0.9076 - accuracy: 0.5940 - val_loss: 1.1067 - val_accuracy: 0.4787\n",
      "Epoch 7/15\n",
      "15141/15141 [==============================] - 12s 760us/step - loss: 0.8634 - accuracy: 0.6157 - val_loss: 1.1122 - val_accuracy: 0.4775\n",
      "Epoch 8/15\n",
      "15141/15141 [==============================] - 11s 757us/step - loss: 0.8249 - accuracy: 0.6384 - val_loss: 1.1348 - val_accuracy: 0.4745\n",
      "Epoch 9/15\n",
      "15141/15141 [==============================] - 11s 749us/step - loss: 0.7871 - accuracy: 0.6550 - val_loss: 1.1552 - val_accuracy: 0.4706\n",
      "Epoch 10/15\n",
      "15141/15141 [==============================] - 11s 749us/step - loss: 0.7508 - accuracy: 0.6744 - val_loss: 1.1864 - val_accuracy: 0.4680\n",
      "Epoch 11/15\n",
      "15141/15141 [==============================] - 12s 763us/step - loss: 0.7163 - accuracy: 0.6994 - val_loss: 1.2104 - val_accuracy: 0.4670\n",
      "Epoch 12/15\n",
      "15141/15141 [==============================] - 11s 755us/step - loss: 0.6813 - accuracy: 0.7181 - val_loss: 1.2417 - val_accuracy: 0.4621\n",
      "Epoch 13/15\n",
      "15141/15141 [==============================] - 12s 761us/step - loss: 0.6500 - accuracy: 0.7303 - val_loss: 1.2787 - val_accuracy: 0.4634\n",
      "Epoch 14/15\n",
      "15141/15141 [==============================] - 11s 759us/step - loss: 0.6170 - accuracy: 0.7507 - val_loss: 1.3176 - val_accuracy: 0.4630\n",
      "Epoch 15/15\n",
      "15141/15141 [==============================] - 12s 764us/step - loss: 0.5882 - accuracy: 0.7702 - val_loss: 1.3512 - val_accuracy: 0.4654\n"
     ]
    }
   ],
   "source": [
    "history_3 = model3.fit(X_train, y_train,\n",
    "                       batch_size=32,\n",
    "                       epochs=15,\n",
    "                       validation_data=(X_test, y_test))"
   ]
  },
  {
   "cell_type": "code",
   "execution_count": 27,
   "id": "62540168",
   "metadata": {},
   "outputs": [
    {
     "name": "stdout",
     "output_type": "stream",
     "text": [
      "Training Accuracy: 0.8114\n",
      "Testing Accuracy:  0.4654\n"
     ]
    }
   ],
   "source": [
    "loss, accuracy = model3.evaluate(X_train, y_train, verbose=False)\n",
    "print(\"Training Accuracy: {:.4f}\".format(accuracy))\n",
    "loss, accuracy = model3.evaluate(X_test, y_test, verbose=False)\n",
    "print(\"Testing Accuracy:  {:.4f}\".format(accuracy))"
   ]
  },
  {
   "cell_type": "code",
   "execution_count": 28,
   "id": "43976ccc",
   "metadata": {},
   "outputs": [
    {
     "data": {
      "image/png": "[encoded data removed]",
      "text/plain": [
       "<Figure size 432x288 with 1 Axes>"
      ]
     },
     "metadata": {
      "needs_background": "light"
     },
     "output_type": "display_data"
    },
    {
     "data": {
      "image/png": "[encoded data removed]",
      "text/plain": [
       "<Figure size 432x288 with 1 Axes>"
      ]
     },
     "metadata": {
      "needs_background": "light"
     },
     "output_type": "display_data"
    }
   ],
   "source": [
    "plot_graphs(history_3, \"accuracy\")\n",
    "plot_graphs(history_3, \"loss\")"
   ]
  },
  {
   "cell_type": "code",
   "execution_count": 29,
   "id": "e5afcb05",
   "metadata": {},
   "outputs": [
    {
     "name": "stdout",
     "output_type": "stream",
     "text": [
      "Model: \"sequential_6\"\n",
      "_________________________________________________________________\n",
      "Layer (type)                 Output Shape              Param #   \n",
      "=================================================================\n",
      "embedding_6 (Embedding)      (None, 100, 50)           1406400   \n",
      "_________________________________________________________________\n",
      "global_max_pooling1d_2 (Glob (None, 50)                0         \n",
      "_________________________________________________________________\n",
      "dropout_3 (Dropout)          (None, 50)                0         \n",
      "_________________________________________________________________\n",
      "dense_11 (Dense)             (None, 16)                816       \n",
      "_________________________________________________________________\n",
      "dropout_4 (Dropout)          (None, 16)                0         \n",
      "_________________________________________________________________\n",
      "dense_12 (Dense)             (None, 7)                 119       \n",
      "=================================================================\n",
      "Total params: 1,407,335\n",
      "Trainable params: 1,407,335\n",
      "Non-trainable params: 0\n",
      "_________________________________________________________________\n"
     ]
    }
   ],
   "source": [
    "embedding_dim = 50\n",
    "\n",
    "model4 = Sequential()\n",
    "model4.add(Embedding(input_dim=vocab_size, output_dim=embedding_dim, input_length=maxlen))\n",
    "model4.add(GlobalMaxPool1D())\n",
    "model4.add(Dropout(0.2))\n",
    "model4.add(Dense(16, activation='relu'))\n",
    "model4.add(Dropout(0.2))\n",
    "model4.add(Dense(7, activation='softmax'))\n",
    "\n",
    "model4.compile(optimizer='adam',\n",
    "               loss='categorical_crossentropy',\n",
    "               metrics=['accuracy'])\n",
    "\n",
    "model4.summary()"
   ]
  },
  {
   "cell_type": "code",
   "execution_count": 30,
   "id": "784eb2b8",
   "metadata": {},
   "outputs": [
    {
     "name": "stdout",
     "output_type": "stream",
     "text": [
      "Train on 15141 samples, validate on 5047 samples\n",
      "Epoch 1/15\n",
      "15141/15141 [==============================] - 12s 788us/step - loss: 1.4565 - accuracy: 0.4840 - val_loss: 1.2743 - val_accuracy: 0.5039\n",
      "Epoch 2/15\n",
      "15141/15141 [==============================] - 11s 759us/step - loss: 1.2304 - accuracy: 0.4984 - val_loss: 1.1417 - val_accuracy: 0.4951\n",
      "Epoch 3/15\n",
      "15141/15141 [==============================] - 12s 765us/step - loss: 1.1189 - accuracy: 0.5114 - val_loss: 1.0910 - val_accuracy: 0.4991\n",
      "Epoch 4/15\n",
      "15141/15141 [==============================] - 11s 756us/step - loss: 1.0611 - accuracy: 0.5226 - val_loss: 1.0699 - val_accuracy: 0.4951\n",
      "Epoch 5/15\n",
      "15141/15141 [==============================] - 11s 753us/step - loss: 1.0254 - accuracy: 0.5292 - val_loss: 1.0596 - val_accuracy: 0.4904\n",
      "Epoch 6/15\n",
      "15141/15141 [==============================] - 11s 750us/step - loss: 0.9979 - accuracy: 0.5315 - val_loss: 1.0558 - val_accuracy: 0.4858\n",
      "Epoch 7/15\n",
      "15141/15141 [==============================] - 11s 759us/step - loss: 0.9724 - accuracy: 0.5443 - val_loss: 1.0563 - val_accuracy: 0.4839\n",
      "Epoch 8/15\n",
      "15141/15141 [==============================] - 11s 758us/step - loss: 0.9510 - accuracy: 0.5499 - val_loss: 1.0576 - val_accuracy: 0.4914\n",
      "Epoch 9/15\n",
      "15141/15141 [==============================] - 11s 755us/step - loss: 0.9382 - accuracy: 0.5552 - val_loss: 1.0570 - val_accuracy: 0.4876\n",
      "Epoch 10/15\n",
      "15141/15141 [==============================] - 11s 755us/step - loss: 0.9213 - accuracy: 0.5661 - val_loss: 1.0620 - val_accuracy: 0.4878\n",
      "Epoch 11/15\n",
      "15141/15141 [==============================] - 12s 764us/step - loss: 0.9007 - accuracy: 0.5681 - val_loss: 1.0757 - val_accuracy: 0.4872\n",
      "Epoch 12/15\n",
      "15141/15141 [==============================] - 12s 764us/step - loss: 0.8952 - accuracy: 0.5744 - val_loss: 1.0864 - val_accuracy: 0.4856\n",
      "Epoch 13/15\n",
      "15141/15141 [==============================] - 12s 767us/step - loss: 0.8751 - accuracy: 0.5852 - val_loss: 1.0831 - val_accuracy: 0.4880\n",
      "Epoch 14/15\n",
      "15141/15141 [==============================] - 12s 765us/step - loss: 0.8724 - accuracy: 0.5842 - val_loss: 1.0866 - val_accuracy: 0.4862\n",
      "Epoch 15/15\n",
      "15141/15141 [==============================] - 12s 768us/step - loss: 0.8536 - accuracy: 0.5876 - val_loss: 1.0982 - val_accuracy: 0.4807\n"
     ]
    }
   ],
   "source": [
    "history_4 = model4.fit(X_train, y_train,\n",
    "                       batch_size=32,\n",
    "                       epochs=15,\n",
    "                       validation_data=(X_test, y_test))"
   ]
  },
  {
   "cell_type": "code",
   "execution_count": 31,
   "id": "36cef5be",
   "metadata": {},
   "outputs": [
    {
     "name": "stdout",
     "output_type": "stream",
     "text": [
      "Training Accuracy: 0.6531\n",
      "Testing Accuracy:  0.4807\n"
     ]
    }
   ],
   "source": [
    "loss, accuracy = model4.evaluate(X_train, y_train, verbose=False)\n",
    "print(\"Training Accuracy: {:.4f}\".format(accuracy))\n",
    "loss, accuracy = model4.evaluate(X_test, y_test, verbose=False)\n",
    "print(\"Testing Accuracy:  {:.4f}\".format(accuracy))"
   ]
  },
  {
   "cell_type": "code",
   "execution_count": 32,
   "id": "d237a55d",
   "metadata": {},
   "outputs": [
    {
     "data": {
      "image/png": "[encoded data removed]",
      "text/plain": [
       "<Figure size 432x288 with 1 Axes>"
      ]
     },
     "metadata": {
      "needs_background": "light"
     },
     "output_type": "display_data"
    },
    {
     "data": {
      "image/png": "[encoded data removed]",
      "text/plain": [
       "<Figure size 432x288 with 1 Axes>"
      ]
     },
     "metadata": {
      "needs_background": "light"
     },
     "output_type": "display_data"
    }
   ],
   "source": [
    "plot_graphs(history_4, \"accuracy\")\n",
    "plot_graphs(history_4, \"loss\")"
   ]
  },
  {
   "cell_type": "code",
   "execution_count": 33,
   "id": "72aad0af",
   "metadata": {},
   "outputs": [
    {
     "name": "stdout",
     "output_type": "stream",
     "text": [
      "Model: \"sequential_7\"\n",
      "_________________________________________________________________\n",
      "Layer (type)                 Output Shape              Param #   \n",
      "=================================================================\n",
      "embedding_7 (Embedding)      (None, 100, 50)           1406400   \n",
      "_________________________________________________________________\n",
      "conv1d_1 (Conv1D)            (None, 96, 128)           32128     \n",
      "_________________________________________________________________\n",
      "global_max_pooling1d_3 (Glob (None, 128)               0         \n",
      "_________________________________________________________________\n",
      "dense_13 (Dense)             (None, 10)                1290      \n",
      "_________________________________________________________________\n",
      "dense_14 (Dense)             (None, 7)                 77        \n",
      "=================================================================\n",
      "Total params: 1,439,895\n",
      "Trainable params: 1,439,895\n",
      "Non-trainable params: 0\n",
      "_________________________________________________________________\n"
     ]
    }
   ],
   "source": [
    "embedding_dim = 50\n",
    "\n",
    "model5 = Sequential()\n",
    "model5.add(Embedding(input_dim=vocab_size, output_dim=embedding_dim, input_length=maxlen))\n",
    "model5.add(Conv1D(128, 5, activation='relu'))\n",
    "model5.add(GlobalMaxPool1D())\n",
    "model5.add(Dense(10, activation='relu'))\n",
    "model5.add(Dense(7, activation='softmax'))\n",
    "\n",
    "model5.compile(optimizer='adam',\n",
    "               loss='categorical_crossentropy',\n",
    "               metrics=['accuracy'])\n",
    "\n",
    "model5.summary()"
   ]
  },
  {
   "cell_type": "code",
   "execution_count": 34,
   "id": "2310efc4",
   "metadata": {},
   "outputs": [
    {
     "name": "stdout",
     "output_type": "stream",
     "text": [
      "Train on 15141 samples, validate on 5047 samples\n",
      "Epoch 1/5\n",
      "15141/15141 [==============================] - 42s 3ms/step - loss: 1.2269 - accuracy: 0.4956 - val_loss: 1.0874 - val_accuracy: 0.4829\n",
      "Epoch 2/5\n",
      "15141/15141 [==============================] - 42s 3ms/step - loss: 1.0112 - accuracy: 0.5121 - val_loss: 1.0625 - val_accuracy: 0.4888\n",
      "Epoch 3/5\n",
      "15141/15141 [==============================] - 41s 3ms/step - loss: 0.9337 - accuracy: 0.5512 - val_loss: 1.0985 - val_accuracy: 0.4951\n",
      "Epoch 4/5\n",
      "15141/15141 [==============================] - 41s 3ms/step - loss: 0.8585 - accuracy: 0.5996 - val_loss: 1.1298 - val_accuracy: 0.4666\n",
      "Epoch 5/5\n",
      "15141/15141 [==============================] - 41s 3ms/step - loss: 0.7644 - accuracy: 0.6599 - val_loss: 1.1998 - val_accuracy: 0.4672\n"
     ]
    }
   ],
   "source": [
    "history_5 = model5.fit(X_train, y_train,\n",
    "                       batch_size=10,\n",
    "                       epochs=5,\n",
    "                       validation_data=(X_test, y_test))"
   ]
  },
  {
   "cell_type": "code",
   "execution_count": 35,
   "id": "203732b4",
   "metadata": {},
   "outputs": [
    {
     "name": "stdout",
     "output_type": "stream",
     "text": [
      "Training Accuracy: 0.7589\n",
      "Testing Accuracy:  0.4672\n"
     ]
    }
   ],
   "source": [
    "loss, accuracy = model5.evaluate(X_train, y_train, verbose=False)\n",
    "print(\"Training Accuracy: {:.4f}\".format(accuracy))\n",
    "loss, accuracy = model5.evaluate(X_test, y_test, verbose=False)\n",
    "print(\"Testing Accuracy:  {:.4f}\".format(accuracy))"
   ]
  },
  {
   "cell_type": "code",
   "execution_count": 36,
   "id": "3216b56b",
   "metadata": {},
   "outputs": [
    {
     "data": {
      "image/png": "[encoded data removed]",
      "text/plain": [
       "<Figure size 432x288 with 1 Axes>"
      ]
     },
     "metadata": {
      "needs_background": "light"
     },
     "output_type": "display_data"
    },
    {
     "data": {
      "image/png": "[encoded data removed]",
      "text/plain": [
       "<Figure size 432x288 with 1 Axes>"
      ]
     },
     "metadata": {
      "needs_background": "light"
     },
     "output_type": "display_data"
    }
   ],
   "source": [
    "plot_graphs(history_5, \"accuracy\")\n",
    "plot_graphs(history_5, \"loss\")"
   ]
  },
  {
   "cell_type": "code",
   "execution_count": null,
   "id": "756bf69e",
   "metadata": {},
   "outputs": [],
   "source": []
  },
  {
   "cell_type": "code",
   "execution_count": 37,
   "id": "81289b07",
   "metadata": {},
   "outputs": [
    {
     "data": {
      "text/plain": [
       "None                        10123\n",
       "Home & Kitchen               4960\n",
       "Tools & Home Improvement     2080\n",
       "Office Products              1144\n",
       "Grocery & Gourmet Food       1102\n",
       "Industrial & Scientific       588\n",
       "Electronics                   191\n",
       "Name: category, dtype: int64"
      ]
     },
     "execution_count": 37,
     "metadata": {},
     "output_type": "execute_result"
    }
   ],
   "source": [
    "df['category'].value_counts()"
   ]
  },
  {
   "cell_type": "code",
   "execution_count": 38,
   "id": "4d135cb8",
   "metadata": {},
   "outputs": [
    {
     "name": "stdout",
     "output_type": "stream",
     "text": [
      "['None' 'Home & Kitchen' 'Tools & Home Improvement' 'Office Products'\n",
      " 'Grocery & Gourmet Food' 'Electronics' 'Industrial & Scientific']\n"
     ]
    }
   ],
   "source": [
    "a = df['category'].unique()\n",
    "print(a)"
   ]
  },
  {
   "cell_type": "code",
   "execution_count": 43,
   "id": "91d0ca6d",
   "metadata": {},
   "outputs": [
    {
     "data": {
      "text/plain": [
       "(191, 2)"
      ]
     },
     "execution_count": 43,
     "metadata": {},
     "output_type": "execute_result"
    }
   ],
   "source": [
    "#above_35 = titanic[titanic[\"Age\"] > 35]\n",
    "df1=df[df[\"category\"]==\"None\"][:191]\n",
    "df2=df[df[\"category\"]=='Home & Kitchen' ][:191]\n",
    "df3=df[df[\"category\"]=='Tools & Home Improvement' ][:191]\n",
    "df4=df[df[\"category\"]==\"Office Products\"][:191]\n",
    "df5=df[df[\"category\"]=='Grocery & Gourmet Food' ][:191]\n",
    "df6=df[df[\"category\"]=='Electronics' ][:191]\n",
    "df7=df[df[\"category\"]=='Industrial & Scientific' ][:191]\n",
    "df7.shape"
   ]
  },
  {
   "cell_type": "code",
   "execution_count": 44,
   "id": "0eb78d26",
   "metadata": {},
   "outputs": [],
   "source": [
    "frames = [df1, df2,df3,df4,df5,df6,df7]\n",
    "  \n",
    "result = pd.concat(frames)"
   ]
  },
  {
   "cell_type": "code",
   "execution_count": 52,
   "id": "266fefce",
   "metadata": {},
   "outputs": [
    {
     "data": {
      "text/plain": [
       "(1337, 2)"
      ]
     },
     "execution_count": 52,
     "metadata": {},
     "output_type": "execute_result"
    }
   ],
   "source": [
    "result.shape"
   ]
  },
  {
   "cell_type": "code",
   "execution_count": 53,
   "id": "966d1e41",
   "metadata": {},
   "outputs": [],
   "source": [
    "df= result\n",
    "sentences = df['title']\n",
    "y = df['category']\n",
    "\n",
    "sentences_train, sentences_test, train_y, test_y = train_test_split(sentences, y, test_size=0.25, random_state=42)"
   ]
  },
  {
   "cell_type": "code",
   "execution_count": 55,
   "id": "e077c8e2",
   "metadata": {},
   "outputs": [
    {
     "name": "stdout",
     "output_type": "stream",
     "text": [
      "Baseboarders&reg; Wall Brackets\n",
      "[21, 8, 18, 494, 495]\n"
     ]
    }
   ],
   "source": [
    "tokenize = Tokenizer(num_words=1000)\n",
    "tokenize.fit_on_texts(sentences_train)\n",
    "\n",
    "X_train = tokenize.texts_to_sequences(sentences_train)\n",
    "X_test = tokenize.texts_to_sequences(sentences_test)\n",
    "\n",
    "vocab_size = len(tokenize.word_index) + 1  \n",
    "\n",
    "print(sentences_train[3])\n",
    "print(X_train[3])"
   ]
  },
  {
   "cell_type": "code",
   "execution_count": 56,
   "id": "eaac8353",
   "metadata": {},
   "outputs": [
    {
     "name": "stdout",
     "output_type": "stream",
     "text": [
      "[ 21   8  18 494 495   0   0   0   0   0   0   0   0   0   0   0   0   0\n",
      "   0   0   0   0   0   0   0   0   0   0   0   0   0   0   0   0   0   0\n",
      "   0   0   0   0   0   0   0   0   0   0   0   0   0   0   0   0   0   0\n",
      "   0   0   0   0   0   0   0   0   0   0   0   0   0   0   0   0   0   0\n",
      "   0   0   0   0   0   0   0   0   0   0   0   0   0   0   0   0   0   0\n",
      "   0   0   0   0   0   0   0   0   0   0]\n"
     ]
    }
   ],
   "source": [
    "maxlen = 100\n",
    "\n",
    "X_train = pad_sequences(X_train, padding='post', maxlen=maxlen)\n",
    "X_test = pad_sequences(X_test, padding='post', maxlen=maxlen)\n",
    "\n",
    "print(X_train[3, :])"
   ]
  },
  {
   "cell_type": "code",
   "execution_count": 57,
   "id": "552178ec",
   "metadata": {},
   "outputs": [
    {
     "name": "stdout",
     "output_type": "stream",
     "text": [
      "7\n"
     ]
    }
   ],
   "source": [
    "encoder = LabelEncoder()\n",
    "encoder.fit(train_y)\n",
    "y_train = encoder.transform(train_y)\n",
    "y_test = encoder.transform(test_y)\n",
    "\n",
    "num_classes = np.max(y_train) + 1\n",
    "print(num_classes)\n",
    "y_train = utils.to_categorical(y_train, num_classes)\n",
    "y_test = utils.to_categorical(y_test, num_classes)"
   ]
  },
  {
   "cell_type": "code",
   "execution_count": 58,
   "id": "0d78379c",
   "metadata": {},
   "outputs": [
    {
     "name": "stdout",
     "output_type": "stream",
     "text": [
      "Model: \"sequential_9\"\n",
      "_________________________________________________________________\n",
      "Layer (type)                 Output Shape              Param #   \n",
      "=================================================================\n",
      "embedding_9 (Embedding)      (None, 100, 50)           261500    \n",
      "_________________________________________________________________\n",
      "global_max_pooling1d_5 (Glob (None, 50)                0         \n",
      "_________________________________________________________________\n",
      "dense_17 (Dense)             (None, 16)                816       \n",
      "_________________________________________________________________\n",
      "dense_18 (Dense)             (None, 7)                 119       \n",
      "=================================================================\n",
      "Total params: 262,435\n",
      "Trainable params: 262,435\n",
      "Non-trainable params: 0\n",
      "_________________________________________________________________\n"
     ]
    }
   ],
   "source": [
    "embedding_dim = 50\n",
    "\n",
    "model3 = Sequential()\n",
    "model3.add(Embedding(input_dim=vocab_size, output_dim=embedding_dim, input_length=maxlen))\n",
    "model3.add(GlobalMaxPool1D())\n",
    "model3.add(Dense(16, activation='relu'))\n",
    "model3.add(Dense(7, activation='softmax'))\n",
    "\n",
    "model3.compile(optimizer='adam',\n",
    "               loss='categorical_crossentropy',\n",
    "               metrics=['accuracy'])\n",
    "\n",
    "model3.summary()"
   ]
  },
  {
   "cell_type": "code",
   "execution_count": 62,
   "id": "09452007",
   "metadata": {},
   "outputs": [
    {
     "name": "stdout",
     "output_type": "stream",
     "text": [
      "Train on 1002 samples, validate on 335 samples\n",
      "Epoch 1/100\n",
      "1002/1002 [==============================] - 0s 363us/step - loss: 0.3438 - accuracy: 0.9551 - val_loss: 1.5314 - val_accuracy: 0.4627\n",
      "Epoch 2/100\n",
      "1002/1002 [==============================] - 0s 353us/step - loss: 0.2879 - accuracy: 0.9641 - val_loss: 1.5630 - val_accuracy: 0.4627\n",
      "Epoch 3/100\n",
      "1002/1002 [==============================] - 0s 356us/step - loss: 0.2405 - accuracy: 0.9731 - val_loss: 1.5936 - val_accuracy: 0.4507\n",
      "Epoch 4/100\n",
      "1002/1002 [==============================] - 0s 345us/step - loss: 0.2021 - accuracy: 0.9800 - val_loss: 1.6232 - val_accuracy: 0.4687\n",
      "Epoch 5/100\n",
      "1002/1002 [==============================] - 0s 352us/step - loss: 0.1712 - accuracy: 0.9840 - val_loss: 1.6544 - val_accuracy: 0.4687\n",
      "Epoch 6/100\n",
      "1002/1002 [==============================] - 0s 355us/step - loss: 0.1464 - accuracy: 0.9880 - val_loss: 1.6780 - val_accuracy: 0.4687\n",
      "Epoch 7/100\n",
      "1002/1002 [==============================] - 0s 358us/step - loss: 0.1253 - accuracy: 0.9920 - val_loss: 1.7102 - val_accuracy: 0.4657\n",
      "Epoch 8/100\n",
      "1002/1002 [==============================] - 0s 358us/step - loss: 0.1078 - accuracy: 0.9920 - val_loss: 1.7410 - val_accuracy: 0.4567\n",
      "Epoch 9/100\n",
      "1002/1002 [==============================] - 0s 350us/step - loss: 0.0943 - accuracy: 0.9930 - val_loss: 1.7675 - val_accuracy: 0.4597\n",
      "Epoch 10/100\n",
      "1002/1002 [==============================] - 0s 361us/step - loss: 0.0832 - accuracy: 0.9940 - val_loss: 1.7968 - val_accuracy: 0.4597\n",
      "Epoch 11/100\n",
      "1002/1002 [==============================] - 0s 332us/step - loss: 0.0736 - accuracy: 0.9940 - val_loss: 1.8247 - val_accuracy: 0.4537\n",
      "Epoch 12/100\n",
      "1002/1002 [==============================] - 0s 357us/step - loss: 0.0661 - accuracy: 0.9940 - val_loss: 1.8509 - val_accuracy: 0.4567\n",
      "Epoch 13/100\n",
      "1002/1002 [==============================] - 0s 364us/step - loss: 0.0596 - accuracy: 0.9930 - val_loss: 1.8749 - val_accuracy: 0.4567\n",
      "Epoch 14/100\n",
      "1002/1002 [==============================] - 0s 331us/step - loss: 0.0536 - accuracy: 0.9930 - val_loss: 1.8986 - val_accuracy: 0.4567\n",
      "Epoch 15/100\n",
      "1002/1002 [==============================] - 0s 344us/step - loss: 0.0489 - accuracy: 0.9930 - val_loss: 1.9237 - val_accuracy: 0.4567\n",
      "Epoch 16/100\n",
      "1002/1002 [==============================] - 0s 366us/step - loss: 0.0449 - accuracy: 0.9950 - val_loss: 1.9435 - val_accuracy: 0.4567\n",
      "Epoch 17/100\n",
      "1002/1002 [==============================] - 0s 365us/step - loss: 0.0412 - accuracy: 0.9960 - val_loss: 1.9641 - val_accuracy: 0.4567\n",
      "Epoch 18/100\n",
      "1002/1002 [==============================] - 0s 349us/step - loss: 0.0380 - accuracy: 0.9960 - val_loss: 1.9877 - val_accuracy: 0.4567\n",
      "Epoch 19/100\n",
      "1002/1002 [==============================] - 0s 348us/step - loss: 0.0355 - accuracy: 0.9960 - val_loss: 2.0100 - val_accuracy: 0.4567\n",
      "Epoch 20/100\n",
      "1002/1002 [==============================] - 0s 356us/step - loss: 0.0334 - accuracy: 0.9950 - val_loss: 2.0283 - val_accuracy: 0.4567\n",
      "Epoch 21/100\n",
      "1002/1002 [==============================] - 0s 352us/step - loss: 0.0311 - accuracy: 0.9960 - val_loss: 2.0454 - val_accuracy: 0.4567\n",
      "Epoch 22/100\n",
      "1002/1002 [==============================] - 0s 358us/step - loss: 0.0291 - accuracy: 0.9960 - val_loss: 2.0646 - val_accuracy: 0.4627\n",
      "Epoch 23/100\n",
      "1002/1002 [==============================] - 0s 355us/step - loss: 0.0278 - accuracy: 0.9950 - val_loss: 2.0827 - val_accuracy: 0.4597\n",
      "Epoch 24/100\n",
      "1002/1002 [==============================] - 0s 358us/step - loss: 0.0264 - accuracy: 0.9960 - val_loss: 2.1004 - val_accuracy: 0.4627\n",
      "Epoch 25/100\n",
      "1002/1002 [==============================] - 0s 360us/step - loss: 0.0252 - accuracy: 0.9960 - val_loss: 2.1176 - val_accuracy: 0.4627\n",
      "Epoch 26/100\n",
      "1002/1002 [==============================] - 0s 332us/step - loss: 0.0240 - accuracy: 0.9950 - val_loss: 2.1338 - val_accuracy: 0.4657\n",
      "Epoch 27/100\n",
      "1002/1002 [==============================] - 0s 356us/step - loss: 0.0229 - accuracy: 0.9960 - val_loss: 2.1501 - val_accuracy: 0.4657\n",
      "Epoch 28/100\n",
      "1002/1002 [==============================] - 0s 360us/step - loss: 0.0221 - accuracy: 0.9950 - val_loss: 2.1657 - val_accuracy: 0.4627\n",
      "Epoch 29/100\n",
      "1002/1002 [==============================] - 0s 373us/step - loss: 0.0214 - accuracy: 0.9960 - val_loss: 2.1802 - val_accuracy: 0.4657\n",
      "Epoch 30/100\n",
      "1002/1002 [==============================] - 0s 353us/step - loss: 0.0206 - accuracy: 0.9950 - val_loss: 2.1960 - val_accuracy: 0.4597\n",
      "Epoch 31/100\n",
      "1002/1002 [==============================] - 0s 352us/step - loss: 0.0198 - accuracy: 0.9950 - val_loss: 2.2084 - val_accuracy: 0.4597\n",
      "Epoch 32/100\n",
      "1002/1002 [==============================] - 0s 341us/step - loss: 0.0191 - accuracy: 0.9950 - val_loss: 2.2249 - val_accuracy: 0.4627\n",
      "Epoch 33/100\n",
      "1002/1002 [==============================] - 0s 354us/step - loss: 0.0183 - accuracy: 0.9960 - val_loss: 2.2402 - val_accuracy: 0.4627\n",
      "Epoch 34/100\n",
      "1002/1002 [==============================] - 0s 356us/step - loss: 0.0180 - accuracy: 0.9960 - val_loss: 2.2524 - val_accuracy: 0.4627\n",
      "Epoch 35/100\n",
      "1002/1002 [==============================] - 0s 335us/step - loss: 0.0176 - accuracy: 0.9960 - val_loss: 2.2683 - val_accuracy: 0.4597\n",
      "Epoch 36/100\n",
      "1002/1002 [==============================] - 0s 358us/step - loss: 0.0171 - accuracy: 0.9960 - val_loss: 2.2773 - val_accuracy: 0.4657\n",
      "Epoch 37/100\n",
      "1002/1002 [==============================] - 0s 344us/step - loss: 0.0168 - accuracy: 0.9950 - val_loss: 2.2919 - val_accuracy: 0.4657\n",
      "Epoch 38/100\n",
      "1002/1002 [==============================] - 0s 335us/step - loss: 0.0160 - accuracy: 0.9960 - val_loss: 2.3079 - val_accuracy: 0.4657\n",
      "Epoch 39/100\n",
      "1002/1002 [==============================] - 0s 332us/step - loss: 0.0158 - accuracy: 0.9960 - val_loss: 2.3218 - val_accuracy: 0.4657\n",
      "Epoch 40/100\n",
      "1002/1002 [==============================] - 0s 359us/step - loss: 0.0156 - accuracy: 0.9960 - val_loss: 2.3338 - val_accuracy: 0.4657\n",
      "Epoch 41/100\n",
      "1002/1002 [==============================] - 0s 328us/step - loss: 0.0154 - accuracy: 0.9960 - val_loss: 2.3431 - val_accuracy: 0.4657\n",
      "Epoch 42/100\n",
      "1002/1002 [==============================] - 0s 340us/step - loss: 0.0151 - accuracy: 0.9960 - val_loss: 2.3552 - val_accuracy: 0.4627\n",
      "Epoch 43/100\n",
      "1002/1002 [==============================] - 0s 332us/step - loss: 0.0148 - accuracy: 0.9950 - val_loss: 2.3661 - val_accuracy: 0.4597\n",
      "Epoch 44/100\n",
      "1002/1002 [==============================] - 0s 326us/step - loss: 0.0144 - accuracy: 0.9950 - val_loss: 2.3773 - val_accuracy: 0.4597\n",
      "Epoch 45/100\n",
      "1002/1002 [==============================] - 0s 328us/step - loss: 0.0141 - accuracy: 0.9950 - val_loss: 2.3861 - val_accuracy: 0.4627\n",
      "Epoch 46/100\n",
      "1002/1002 [==============================] - 0s 321us/step - loss: 0.0140 - accuracy: 0.9950 - val_loss: 2.3987 - val_accuracy: 0.4567\n",
      "Epoch 47/100\n",
      "1002/1002 [==============================] - 0s 330us/step - loss: 0.0138 - accuracy: 0.9960 - val_loss: 2.4116 - val_accuracy: 0.4597\n",
      "Epoch 48/100\n",
      "1002/1002 [==============================] - 0s 342us/step - loss: 0.0136 - accuracy: 0.9960 - val_loss: 2.4197 - val_accuracy: 0.4597\n",
      "Epoch 49/100\n",
      "1002/1002 [==============================] - 0s 330us/step - loss: 0.0136 - accuracy: 0.9960 - val_loss: 2.4289 - val_accuracy: 0.4567\n",
      "Epoch 50/100\n",
      "1002/1002 [==============================] - 0s 360us/step - loss: 0.0131 - accuracy: 0.9960 - val_loss: 2.4400 - val_accuracy: 0.4597\n",
      "Epoch 51/100\n",
      "1002/1002 [==============================] - 0s 348us/step - loss: 0.0129 - accuracy: 0.9960 - val_loss: 2.4507 - val_accuracy: 0.4597\n",
      "Epoch 52/100\n",
      "1002/1002 [==============================] - 0s 337us/step - loss: 0.0129 - accuracy: 0.9960 - val_loss: 2.4615 - val_accuracy: 0.4597\n",
      "Epoch 53/100\n",
      "1002/1002 [==============================] - 0s 341us/step - loss: 0.0130 - accuracy: 0.9950 - val_loss: 2.4737 - val_accuracy: 0.4597\n",
      "Epoch 54/100\n",
      "1002/1002 [==============================] - 0s 346us/step - loss: 0.0126 - accuracy: 0.9960 - val_loss: 2.4798 - val_accuracy: 0.4627\n",
      "Epoch 55/100\n",
      "1002/1002 [==============================] - 0s 333us/step - loss: 0.0124 - accuracy: 0.9960 - val_loss: 2.4915 - val_accuracy: 0.4627\n",
      "Epoch 56/100\n"
     ]
    },
    {
     "name": "stdout",
     "output_type": "stream",
     "text": [
      "1002/1002 [==============================] - 0s 345us/step - loss: 0.0122 - accuracy: 0.9960 - val_loss: 2.5012 - val_accuracy: 0.4597\n",
      "Epoch 57/100\n",
      "1002/1002 [==============================] - 0s 356us/step - loss: 0.0124 - accuracy: 0.9960 - val_loss: 2.5118 - val_accuracy: 0.4657\n",
      "Epoch 58/100\n",
      "1002/1002 [==============================] - 0s 358us/step - loss: 0.0121 - accuracy: 0.9950 - val_loss: 2.5198 - val_accuracy: 0.4627\n",
      "Epoch 59/100\n",
      "1002/1002 [==============================] - 0s 339us/step - loss: 0.0121 - accuracy: 0.9960 - val_loss: 2.5288 - val_accuracy: 0.4657\n",
      "Epoch 60/100\n",
      "1002/1002 [==============================] - 0s 329us/step - loss: 0.0121 - accuracy: 0.9960 - val_loss: 2.5357 - val_accuracy: 0.4657\n",
      "Epoch 61/100\n",
      "1002/1002 [==============================] - 0s 342us/step - loss: 0.0119 - accuracy: 0.9950 - val_loss: 2.5482 - val_accuracy: 0.4657\n",
      "Epoch 62/100\n",
      "1002/1002 [==============================] - 0s 339us/step - loss: 0.0119 - accuracy: 0.9960 - val_loss: 2.5557 - val_accuracy: 0.4657\n",
      "Epoch 63/100\n",
      "1002/1002 [==============================] - 0s 337us/step - loss: 0.0116 - accuracy: 0.9950 - val_loss: 2.5640 - val_accuracy: 0.4687\n",
      "Epoch 64/100\n",
      "1002/1002 [==============================] - 0s 326us/step - loss: 0.0117 - accuracy: 0.9950 - val_loss: 2.5726 - val_accuracy: 0.4716\n",
      "Epoch 65/100\n",
      "1002/1002 [==============================] - 0s 347us/step - loss: 0.0115 - accuracy: 0.9950 - val_loss: 2.5835 - val_accuracy: 0.4687\n",
      "Epoch 66/100\n",
      "1002/1002 [==============================] - 0s 341us/step - loss: 0.0118 - accuracy: 0.9960 - val_loss: 2.5928 - val_accuracy: 0.4716\n",
      "Epoch 67/100\n",
      "1002/1002 [==============================] - 0s 321us/step - loss: 0.0114 - accuracy: 0.9960 - val_loss: 2.6011 - val_accuracy: 0.4716\n",
      "Epoch 68/100\n",
      "1002/1002 [==============================] - 0s 362us/step - loss: 0.0115 - accuracy: 0.9950 - val_loss: 2.6051 - val_accuracy: 0.4716\n",
      "Epoch 69/100\n",
      "1002/1002 [==============================] - 0s 333us/step - loss: 0.0113 - accuracy: 0.9950 - val_loss: 2.6158 - val_accuracy: 0.4746\n",
      "Epoch 70/100\n",
      "1002/1002 [==============================] - 0s 346us/step - loss: 0.0115 - accuracy: 0.9960 - val_loss: 2.6213 - val_accuracy: 0.4746\n",
      "Epoch 71/100\n",
      "1002/1002 [==============================] - 0s 317us/step - loss: 0.0111 - accuracy: 0.9960 - val_loss: 2.6312 - val_accuracy: 0.4716\n",
      "Epoch 72/100\n",
      "1002/1002 [==============================] - 0s 322us/step - loss: 0.0112 - accuracy: 0.9950 - val_loss: 2.6419 - val_accuracy: 0.4746\n",
      "Epoch 73/100\n",
      "1002/1002 [==============================] - 0s 346us/step - loss: 0.0111 - accuracy: 0.9950 - val_loss: 2.6516 - val_accuracy: 0.4716\n",
      "Epoch 74/100\n",
      "1002/1002 [==============================] - 0s 319us/step - loss: 0.0113 - accuracy: 0.9960 - val_loss: 2.6576 - val_accuracy: 0.4716\n",
      "Epoch 75/100\n",
      "1002/1002 [==============================] - 0s 343us/step - loss: 0.0113 - accuracy: 0.9950 - val_loss: 2.6629 - val_accuracy: 0.4746\n",
      "Epoch 76/100\n",
      "1002/1002 [==============================] - 0s 349us/step - loss: 0.0110 - accuracy: 0.9950 - val_loss: 2.6731 - val_accuracy: 0.4746\n",
      "Epoch 77/100\n",
      "1002/1002 [==============================] - 0s 352us/step - loss: 0.0109 - accuracy: 0.9950 - val_loss: 2.6786 - val_accuracy: 0.4716\n",
      "Epoch 78/100\n",
      "1002/1002 [==============================] - 0s 347us/step - loss: 0.0108 - accuracy: 0.9950 - val_loss: 2.6886 - val_accuracy: 0.4716\n",
      "Epoch 79/100\n",
      "1002/1002 [==============================] - 0s 343us/step - loss: 0.0106 - accuracy: 0.9950 - val_loss: 2.6950 - val_accuracy: 0.4716\n",
      "Epoch 80/100\n",
      "1002/1002 [==============================] - 0s 339us/step - loss: 0.0109 - accuracy: 0.9960 - val_loss: 2.7023 - val_accuracy: 0.4716\n",
      "Epoch 81/100\n",
      "1002/1002 [==============================] - 0s 361us/step - loss: 0.0108 - accuracy: 0.9960 - val_loss: 2.7057 - val_accuracy: 0.4716\n",
      "Epoch 82/100\n",
      "1002/1002 [==============================] - 0s 341us/step - loss: 0.0109 - accuracy: 0.9960 - val_loss: 2.7161 - val_accuracy: 0.4687\n",
      "Epoch 83/100\n",
      "1002/1002 [==============================] - 0s 341us/step - loss: 0.0107 - accuracy: 0.9950 - val_loss: 2.7240 - val_accuracy: 0.4716\n",
      "Epoch 84/100\n",
      "1002/1002 [==============================] - 0s 332us/step - loss: 0.0105 - accuracy: 0.9950 - val_loss: 2.7298 - val_accuracy: 0.4657\n",
      "Epoch 85/100\n",
      "1002/1002 [==============================] - 0s 349us/step - loss: 0.0105 - accuracy: 0.9960 - val_loss: 2.7363 - val_accuracy: 0.4687\n",
      "Epoch 86/100\n",
      "1002/1002 [==============================] - 0s 362us/step - loss: 0.0106 - accuracy: 0.9960 - val_loss: 2.7455 - val_accuracy: 0.4687\n",
      "Epoch 87/100\n",
      "1002/1002 [==============================] - 0s 322us/step - loss: 0.0104 - accuracy: 0.9960 - val_loss: 2.7487 - val_accuracy: 0.4716\n",
      "Epoch 88/100\n",
      "1002/1002 [==============================] - 0s 342us/step - loss: 0.0105 - accuracy: 0.9960 - val_loss: 2.7568 - val_accuracy: 0.4687\n",
      "Epoch 89/100\n",
      "1002/1002 [==============================] - 0s 338us/step - loss: 0.0106 - accuracy: 0.9960 - val_loss: 2.7649 - val_accuracy: 0.4657\n",
      "Epoch 90/100\n",
      "1002/1002 [==============================] - 0s 323us/step - loss: 0.0104 - accuracy: 0.9960 - val_loss: 2.7675 - val_accuracy: 0.4687\n",
      "Epoch 91/100\n",
      "1002/1002 [==============================] - 0s 338us/step - loss: 0.0106 - accuracy: 0.9960 - val_loss: 2.7784 - val_accuracy: 0.4687\n",
      "Epoch 92/100\n",
      "1002/1002 [==============================] - 0s 332us/step - loss: 0.0109 - accuracy: 0.9950 - val_loss: 2.7881 - val_accuracy: 0.4627\n",
      "Epoch 93/100\n",
      "1002/1002 [==============================] - 0s 348us/step - loss: 0.0110 - accuracy: 0.9950 - val_loss: 2.7882 - val_accuracy: 0.4687\n",
      "Epoch 94/100\n",
      "1002/1002 [==============================] - 0s 352us/step - loss: 0.0106 - accuracy: 0.9950 - val_loss: 2.7961 - val_accuracy: 0.4687\n",
      "Epoch 95/100\n",
      "1002/1002 [==============================] - 0s 332us/step - loss: 0.0104 - accuracy: 0.9960 - val_loss: 2.7977 - val_accuracy: 0.4716\n",
      "Epoch 96/100\n",
      "1002/1002 [==============================] - 0s 339us/step - loss: 0.0103 - accuracy: 0.9950 - val_loss: 2.8059 - val_accuracy: 0.4716\n",
      "Epoch 97/100\n",
      "1002/1002 [==============================] - 0s 338us/step - loss: 0.0102 - accuracy: 0.9950 - val_loss: 2.8111 - val_accuracy: 0.4716\n",
      "Epoch 98/100\n",
      "1002/1002 [==============================] - 0s 341us/step - loss: 0.0103 - accuracy: 0.9960 - val_loss: 2.8163 - val_accuracy: 0.4716\n",
      "Epoch 99/100\n",
      "1002/1002 [==============================] - 0s 329us/step - loss: 0.0101 - accuracy: 0.9960 - val_loss: 2.8249 - val_accuracy: 0.4687\n",
      "Epoch 100/100\n",
      "1002/1002 [==============================] - 0s 357us/step - loss: 0.0104 - accuracy: 0.9950 - val_loss: 2.8270 - val_accuracy: 0.4716\n"
     ]
    }
   ],
   "source": [
    "history_3 = model3.fit(X_train, y_train,\n",
    "                       batch_size=32,\n",
    "                       epochs=100,\n",
    "                       validation_data=(X_test, y_test))"
   ]
  },
  {
   "cell_type": "code",
   "execution_count": 63,
   "id": "431570cc",
   "metadata": {},
   "outputs": [
    {
     "name": "stdout",
     "output_type": "stream",
     "text": [
      "Training Accuracy: 0.9960\n",
      "Testing Accuracy:  0.4716\n"
     ]
    }
   ],
   "source": [
    "loss, accuracy = model3.evaluate(X_train, y_train, verbose=False)\n",
    "print(\"Training Accuracy: {:.4f}\".format(accuracy))\n",
    "loss, accuracy = model3.evaluate(X_test, y_test, verbose=False)\n",
    "print(\"Testing Accuracy:  {:.4f}\".format(accuracy))"
   ]
  },
  {
   "cell_type": "code",
   "execution_count": 64,
   "id": "ed944576",
   "metadata": {},
   "outputs": [
    {
     "data": {
      "image/png": "[encoded data removed]",
      "text/plain": [
       "<Figure size 432x288 with 1 Axes>"
      ]
     },
     "metadata": {
      "needs_background": "light"
     },
     "output_type": "display_data"
    },
    {
     "data": {
      "image/png": "[encoded data removed]",
      "text/plain": [
       "<Figure size 432x288 with 1 Axes>"
      ]
     },
     "metadata": {
      "needs_background": "light"
     },
     "output_type": "display_data"
    }
   ],
   "source": [
    "plot_graphs(history_3, \"accuracy\")\n",
    "plot_graphs(history_3, \"loss\")"
   ]
  },
  {
   "cell_type": "code",
   "execution_count": null,
   "id": "6bdf8a04",
   "metadata": {},
   "outputs": [],
   "source": []
  }
 ],
 "metadata": {
  "kernelspec": {
   "display_name": "Python 3",
   "language": "python",
   "name": "python3"
  },
  "language_info": {
   "codemirror_mode": {
    "name": "ipython",
    "version": 3
   },
   "file_extension": ".py",
   "mimetype": "text/x-python",
   "name": "python",
   "nbconvert_exporter": "python",
   "pygments_lexer": "ipython3",
   "version": "3.6.13"
  }
 },
 "nbformat": 4,
 "nbformat_minor": 5
}
