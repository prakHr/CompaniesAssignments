{
 "cells": [
  {
   "cell_type": "markdown",
   "metadata": {},
   "source": [
    "# LLM Magicoder\n",
    "\n",
    "## Paper: [Magicoder: Source Code Is All You Need](https://arxiv.org/abs/2312.02120)"
   ]
  },
  {
   "cell_type": "markdown",
   "metadata": {},
   "source": [
    "## [Github](https://github.com/ise-uiuc/magicoder)\n",
    "![](https://raw.githubusercontent.com/ise-uiuc/magicoder/830ef3bae6c964d913937e4146817d5ecf1ab106/assets/overview.svg)"
   ]
  },
  {
   "cell_type": "markdown",
   "metadata": {},
   "source": [
    "## Dataset\n",
    "### [Magicoder-OSS-Instruct-75K](https://huggingface.co/datasets/ise-uiuc/Magicoder_oss_instruct_75k)\n",
    "\n",
    "### [Magicoder-Evol-Instruct-110K](https://huggingface.co/datasets/ise-uiuc/Magicoder-Evol-Instruct-110K)"
   ]
  },
  {
   "cell_type": "code",
   "execution_count": 1,
   "metadata": {
    "execution": {
     "iopub.execute_input": "2024-04-24T10:57:20.609692Z",
     "iopub.status.busy": "2024-04-24T10:57:20.609345Z",
     "iopub.status.idle": "2024-04-24T10:57:39.312853Z",
     "shell.execute_reply": "2024-04-24T10:57:39.312030Z",
     "shell.execute_reply.started": "2024-04-24T10:57:20.609667Z"
    }
   },
   "outputs": [
    {
     "name": "stderr",
     "output_type": "stream",
     "text": [
      "/opt/conda/lib/python3.10/site-packages/scipy/__init__.py:146: UserWarning: A NumPy version >=1.16.5 and <1.23.0 is required for this version of SciPy (detected version 1.24.3\n",
      "  warnings.warn(f\"A NumPy version >={np_minversion} and <{np_maxversion}\"\n"
     ]
    }
   ],
   "source": [
    "from transformers import pipeline\n",
    "import torch"
   ]
  },
  {
   "cell_type": "code",
   "execution_count": 4,
   "metadata": {
    "execution": {
     "iopub.execute_input": "2024-04-24T10:57:53.225353Z",
     "iopub.status.busy": "2024-04-24T10:57:53.224685Z",
     "iopub.status.idle": "2024-04-24T11:05:05.594070Z",
     "shell.execute_reply": "2024-04-24T11:05:05.593217Z",
     "shell.execute_reply.started": "2024-04-24T10:57:53.225323Z"
    }
   },
   "outputs": [
    {
     "data": {
      "application/vnd.jupyter.widget-view+json": {
       "model_id": "01fbacf423344352abc6c20c8a3dfe95",
       "version_major": 2,
       "version_minor": 0
      },
      "text/plain": [
       "config.json:   0%|          | 0.00/742 [00:00<?, ?B/s]"
      ]
     },
     "metadata": {},
     "output_type": "display_data"
    },
    {
     "data": {
      "application/vnd.jupyter.widget-view+json": {
       "model_id": "51198e50e82a42ce9fb4fd632b1ace21",
       "version_major": 2,
       "version_minor": 0
      },
      "text/plain": [
       "model.safetensors.index.json:   0%|          | 0.00/23.9k [00:00<?, ?B/s]"
      ]
     },
     "metadata": {},
     "output_type": "display_data"
    },
    {
     "data": {
      "application/vnd.jupyter.widget-view+json": {
       "model_id": "e2379053479b48529665bfd91572de20",
       "version_major": 2,
       "version_minor": 0
      },
      "text/plain": [
       "Downloading shards:   0%|          | 0/6 [00:00<?, ?it/s]"
      ]
     },
     "metadata": {},
     "output_type": "display_data"
    },
    {
     "data": {
      "application/vnd.jupyter.widget-view+json": {
       "model_id": "4059b0718a8344fab7566ca404d0f3e2",
       "version_major": 2,
       "version_minor": 0
      },
      "text/plain": [
       "model-00001-of-00006.safetensors:   0%|          | 0.00/4.84G [00:00<?, ?B/s]"
      ]
     },
     "metadata": {},
     "output_type": "display_data"
    },
    {
     "data": {
      "application/vnd.jupyter.widget-view+json": {
       "model_id": "b81bd97ae0534a24a508c412691ead5b",
       "version_major": 2,
       "version_minor": 0
      },
      "text/plain": [
       "model-00002-of-00006.safetensors:   0%|          | 0.00/4.86G [00:00<?, ?B/s]"
      ]
     },
     "metadata": {},
     "output_type": "display_data"
    },
    {
     "data": {
      "application/vnd.jupyter.widget-view+json": {
       "model_id": "7176177ef8254ddc9f2bddde08b96caf",
       "version_major": 2,
       "version_minor": 0
      },
      "text/plain": [
       "model-00003-of-00006.safetensors:   0%|          | 0.00/4.86G [00:00<?, ?B/s]"
      ]
     },
     "metadata": {},
     "output_type": "display_data"
    },
    {
     "data": {
      "application/vnd.jupyter.widget-view+json": {
       "model_id": "67b3531a3d2848909d93eaf1f5e0bdf6",
       "version_major": 2,
       "version_minor": 0
      },
      "text/plain": [
       "model-00004-of-00006.safetensors:   0%|          | 0.00/4.86G [00:00<?, ?B/s]"
      ]
     },
     "metadata": {},
     "output_type": "display_data"
    },
    {
     "data": {
      "application/vnd.jupyter.widget-view+json": {
       "model_id": "7103f1fea61c4f29b4844063c55e75f7",
       "version_major": 2,
       "version_minor": 0
      },
      "text/plain": [
       "model-00005-of-00006.safetensors:   0%|          | 0.00/4.86G [00:00<?, ?B/s]"
      ]
     },
     "metadata": {},
     "output_type": "display_data"
    },
    {
     "data": {
      "application/vnd.jupyter.widget-view+json": {
       "model_id": "c2e8a83ce9464360ba428ddb455cc24e",
       "version_major": 2,
       "version_minor": 0
      },
      "text/plain": [
       "model-00006-of-00006.safetensors:   0%|          | 0.00/2.69G [00:00<?, ?B/s]"
      ]
     },
     "metadata": {},
     "output_type": "display_data"
    },
    {
     "data": {
      "application/vnd.jupyter.widget-view+json": {
       "model_id": "a24d6e22ae17466e8fbb313b30d0c3f0",
       "version_major": 2,
       "version_minor": 0
      },
      "text/plain": [
       "Loading checkpoint shards:   0%|          | 0/6 [00:00<?, ?it/s]"
      ]
     },
     "metadata": {},
     "output_type": "display_data"
    },
    {
     "data": {
      "application/vnd.jupyter.widget-view+json": {
       "model_id": "a4c43ff7268045df88c3081e5aca9eaf",
       "version_major": 2,
       "version_minor": 0
      },
      "text/plain": [
       "generation_config.json:   0%|          | 0.00/124 [00:00<?, ?B/s]"
      ]
     },
     "metadata": {},
     "output_type": "display_data"
    },
    {
     "data": {
      "application/vnd.jupyter.widget-view+json": {
       "model_id": "ff6b03649d654a02b0b24ad9be934ba9",
       "version_major": 2,
       "version_minor": 0
      },
      "text/plain": [
       "tokenizer_config.json:   0%|          | 0.00/4.87k [00:00<?, ?B/s]"
      ]
     },
     "metadata": {},
     "output_type": "display_data"
    },
    {
     "data": {
      "application/vnd.jupyter.widget-view+json": {
       "model_id": "7935574d478c411ebff35690fa477444",
       "version_major": 2,
       "version_minor": 0
      },
      "text/plain": [
       "tokenizer.model:   0%|          | 0.00/500k [00:00<?, ?B/s]"
      ]
     },
     "metadata": {},
     "output_type": "display_data"
    },
    {
     "data": {
      "application/vnd.jupyter.widget-view+json": {
       "model_id": "018f6722965441d2bf701fd1f8874e08",
       "version_major": 2,
       "version_minor": 0
      },
      "text/plain": [
       "tokenizer.json:   0%|          | 0.00/1.37M [00:00<?, ?B/s]"
      ]
     },
     "metadata": {},
     "output_type": "display_data"
    },
    {
     "data": {
      "application/vnd.jupyter.widget-view+json": {
       "model_id": "e3a55ba03fb54962a080952e2e16590b",
       "version_major": 2,
       "version_minor": 0
      },
      "text/plain": [
       "added_tokens.json:   0%|          | 0.00/458 [00:00<?, ?B/s]"
      ]
     },
     "metadata": {},
     "output_type": "display_data"
    },
    {
     "data": {
      "application/vnd.jupyter.widget-view+json": {
       "model_id": "6627a907d1d84ec4ac0263dd124b9ecc",
       "version_major": 2,
       "version_minor": 0
      },
      "text/plain": [
       "special_tokens_map.json:   0%|          | 0.00/482 [00:00<?, ?B/s]"
      ]
     },
     "metadata": {},
     "output_type": "display_data"
    },
    {
     "name": "stderr",
     "output_type": "stream",
     "text": [
      "Special tokens have been added in the vocabulary, make sure the associated word embeddings are fine-tuned or trained.\n"
     ]
    }
   ],
   "source": [
    "generator = pipeline(\n",
    "    model=\"ise-uiuc/Magicoder-S-DS-6.7B\",\n",
    "    task=\"text-generation\",\n",
    "    torch_dtype=torch.bfloat16,\n",
    "    device_map=\"auto\",\n",
    ")"
   ]
  },
  {
   "cell_type": "code",
   "execution_count": 51,
   "metadata": {
    "execution": {
     "iopub.execute_input": "2024-04-24T11:30:03.652647Z",
     "iopub.status.busy": "2024-04-24T11:30:03.651888Z",
     "iopub.status.idle": "2024-04-24T11:30:03.657241Z",
     "shell.execute_reply": "2024-04-24T11:30:03.656322Z",
     "shell.execute_reply.started": "2024-04-24T11:30:03.652612Z"
    }
   },
   "outputs": [],
   "source": [
    "MAGICODER_PROMPT = \"\"\"You are an exceptionally intelligent coding assistant that consistently delivers accurate and reliable responses to user instructions. Also you only provide python code for the solution while keeping the import statements for the package that you use.\n",
    "\n",
    "@@ Instruction\n",
    "{instruction}\n",
    "\n",
    "\n",
    "@@ Response\n",
    "\"\"\"\n",
    "\n",
    "# instruction = \"Write a fibonacci series upto n.\"\n",
    "instruction = \"Write python code for Whenever an SQL query returns a blank result, send an email via Gmail based on certain parameters. Whenever the user replies to the email, trigger a webhook to parse and insert Gmail response data into the SQL table again.\"\n",
    "prompt = MAGICODER_PROMPT.format(instruction=instruction)"
   ]
  },
  {
   "cell_type": "code",
   "execution_count": 52,
   "metadata": {
    "execution": {
     "iopub.execute_input": "2024-04-24T11:30:06.925142Z",
     "iopub.status.busy": "2024-04-24T11:30:06.924285Z",
     "iopub.status.idle": "2024-04-24T11:30:46.874433Z",
     "shell.execute_reply": "2024-04-24T11:30:46.873504Z",
     "shell.execute_reply.started": "2024-04-24T11:30:06.925105Z"
    }
   },
   "outputs": [
    {
     "name": "stderr",
     "output_type": "stream",
     "text": [
      "Setting `pad_token_id` to `eos_token_id`:32014 for open-end generation.\n"
     ]
    },
    {
     "name": "stdout",
     "output_type": "stream",
     "text": [
      "You are an exceptionally intelligent coding assistant that consistently delivers accurate and reliable responses to user instructions. Also you only provide python code for the solution while keeping the import statements for the package that you use.\n",
      "\n",
      "@@ Instruction\n",
      "Write python code for Whenever an SQL query returns a blank result, send an email via Gmail based on certain parameters. Whenever the user replies to the email, trigger a webhook to parse and insert Gmail response data into the SQL table again.\n",
      "\n",
      "\n",
      "@@ Response\n",
      "This is a complex task that requires knowledge of several different areas of programming, including SQL, Gmail API, and webhooks. Here's a simplified example of how you might approach this task using Python and the `sqlite3`, `smtplib`, and `imaplib` libraries for SQL and email, and the `requests` library for webhooks.\n",
      "\n",
      "Please note that this is a simplified example and does not include error handling, security measures, or other best practices.\n",
      "\n",
      "```python\n",
      "import sqlite3\n",
      "import smtplib\n",
      "import imaplib\n",
      "import requests\n",
      "from email.mime.text import MIMEText\n",
      "from email.mime.multipart import MIMEMultipart\n",
      "\n",
      "# Connect to SQLite database\n",
      "conn = sqlite3.connect('my_database.db')\n",
      "c = conn.cursor()\n",
      "\n",
      "# SQL query\n",
      "c.execute(\"SELECT * FROM my_table\")\n",
      "result = c.fetchall()\n",
      "\n",
      "# If the query returns a blank result, send an email\n",
      "if not result:\n",
      "    msg = MIMEMultipart()\n",
      "    msg['From'] ='sender@gmail.com'\n",
      "    msg['To'] ='receiver@gmail.com'\n",
      "    msg['Subject'] = 'Your Subject'\n",
      "\n",
      "    body = 'Your message'\n",
      "    msg.attach(MIMEText(body, 'plain'))\n",
      "\n",
      "    server = smtplib.SMTP('smtp.gmail.com', 587)\n",
      "    server.starttls()\n",
      "    server.login(msg['From'], 'password')\n",
      "    server.sendmail(msg['From'], msg['To'], msg.as_string())\n",
      "    server.quit()\n",
      "\n",
      "# If the user replies to the email, trigger a webhook\n",
      "imaplib._imaplib.IMAP4.noop()\n",
      "mail = imaplib.IMAP4_SSL(\"imap.gmail.com\")\n",
      "mail.login('sender@gmail.com', 'password')\n",
      "mail.select(\"inbox\")\n",
      "\n",
      "result, data = mail.search(None, \"(UNSEEN)\")\n",
      "\n",
      "for num in data[0].split():\n",
      "    result, data = mail.fetch(num, '(RFC822)')\n",
      "    raw_email = data[0][1]\n",
      "    email_message = email.message_from_bytes(raw_email)\n",
      "\n",
      "    if email_message[\"Subject\"] == \"Your Subject\":\n",
      "        # Parse the email and insert data into SQL table\n",
      "        c.execute(\"INSERT INTO my_table VALUES (?,?)\", (email_message['From'], email_message['Subject']))\n",
      "        conn.commit()\n",
      "\n",
      "        # Trigger webhook\n",
      "        requests.post('https://your-webhook-url.com')\n",
      "\n",
      "mail.close()\n",
      "mail.logout()\n",
      "```\n",
      "\n",
      "This code assumes that you have a Gmail account with the necessary permissions to send and receive emails. You also need to replace `'sender@gmail.com'`, `'password'`, `'receiver@gmail.com'`, `'Your Subject'`, `'Your message'`, `'my_database.db'`, `'my_table'`, and `'https://your-webhook-url.com'` with your actual data.\n",
      "\n",
      "Please note that this is a very basic example and does not include error handling, security measures, or other best practices. For a production environment, you would need to use a more secure method to store your email credentials, handle multiple emails, and ensure that the webhook is triggered correctly.\n"
     ]
    }
   ],
   "source": [
    "result = generator(prompt, max_length=2048, num_return_sequences=1, temperature=1.0)\n",
    "print(result[0][\"generated_text\"])"
   ]
  },
  {
   "cell_type": "code",
   "execution_count": 54,
   "metadata": {
    "execution": {
     "iopub.execute_input": "2024-04-24T11:31:57.519915Z",
     "iopub.status.busy": "2024-04-24T11:31:57.519162Z",
     "iopub.status.idle": "2024-04-24T11:31:57.526003Z",
     "shell.execute_reply": "2024-04-24T11:31:57.524983Z",
     "shell.execute_reply.started": "2024-04-24T11:31:57.519876Z"
    }
   },
   "outputs": [
    {
     "name": "stdout",
     "output_type": "stream",
     "text": [
      "\n",
      "import sqlite3\n",
      "import smtplib\n",
      "import imaplib\n",
      "import requests\n",
      "from email.mime.text import MIMEText\n",
      "from email.mime.multipart import MIMEMultipart\n",
      "\n",
      "# Connect to SQLite database\n",
      "conn = sqlite3.connect('my_database.db')\n",
      "c = conn.cursor()\n",
      "\n",
      "# SQL query\n",
      "c.execute(\"SELECT * FROM my_table\")\n",
      "result = c.fetchall()\n",
      "\n",
      "# If the query returns a blank result, send an email\n",
      "if not result:\n",
      "    msg = MIMEMultipart()\n",
      "    msg['From'] ='sender@gmail.com'\n",
      "    msg['To'] ='receiver@gmail.com'\n",
      "    msg['Subject'] = 'Your Subject'\n",
      "\n",
      "    body = 'Your message'\n",
      "    msg.attach(MIMEText(body, 'plain'))\n",
      "\n",
      "    server = smtplib.SMTP('smtp.gmail.com', 587)\n",
      "    server.starttls()\n",
      "    server.login(msg['From'], 'password')\n",
      "    server.sendmail(msg['From'], msg['To'], msg.as_string())\n",
      "    server.quit()\n",
      "\n",
      "# If the user replies to the email, trigger a webhook\n",
      "imaplib._imaplib.IMAP4.noop()\n",
      "mail = imaplib.IMAP4_SSL(\"imap.gmail.com\")\n",
      "mail.login('sender@gmail.com', 'password')\n",
      "mail.select(\"inbox\")\n",
      "\n",
      "result, data = mail.search(None, \"(UNSEEN)\")\n",
      "\n",
      "for num in data[0].split():\n",
      "    result, data = mail.fetch(num, '(RFC822)')\n",
      "    raw_email = data[0][1]\n",
      "    email_message = email.message_from_bytes(raw_email)\n",
      "\n",
      "    if email_message[\"Subject\"] == \"Your Subject\":\n",
      "        # Parse the email and insert data into SQL table\n",
      "        c.execute(\"INSERT INTO my_table VALUES (?,?)\", (email_message['From'], email_message['Subject']))\n",
      "        conn.commit()\n",
      "\n",
      "        # Trigger webhook\n",
      "        requests.post('https://your-webhook-url.com')\n",
      "\n",
      "mail.close()\n",
      "mail.logout()\n",
      "\n"
     ]
    }
   ],
   "source": [
    "from pprint import pprint\n",
    "text = result[0][\"generated_text\"]\n",
    "start = \"```python\"\n",
    "index = text.index(start)\n",
    "text = text[index+len(start):]\n",
    "end = \"```\"\n",
    "end_index = text.index(end)\n",
    "text = text[:end_index]\n",
    "# pprint(text)\n",
    "print(text)\n",
    "# print(exec(text))"
   ]
  }
 ],
 "metadata": {
  "kaggle": {
   "accelerator": "gpu",
   "dataSources": [],
   "dockerImageVersionId": 30627,
   "isGpuEnabled": true,
   "isInternetEnabled": true,
   "language": "python",
   "sourceType": "notebook"
  },
  "kernelspec": {
   "display_name": "Python 3 (ipykernel)",
   "language": "python",
   "name": "python3"
  },
  "language_info": {
   "codemirror_mode": {
    "name": "ipython",
    "version": 3
   },
   "file_extension": ".py",
   "mimetype": "text/x-python",
   "name": "python",
   "nbconvert_exporter": "python",
   "pygments_lexer": "ipython3",
   "version": "3.8.18"
  }
 },
 "nbformat": 4,
 "nbformat_minor": 4
}
