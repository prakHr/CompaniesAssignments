{
  "nbformat": 4,
  "nbformat_minor": 0,
  "metadata": {
    "colab": {
      "name": "skylark_train",
      "provenance": [],
      "collapsed_sections": []
    },
    "kernelspec": {
      "name": "python3",
      "display_name": "Python 3"
    },
    "language_info": {
      "name": "python"
    },
    "accelerator": "GPU"
  },
  "cells": [
    {
      "cell_type": "code",
      "metadata": {
        "colab": {
          "base_uri": "https://localhost:8080/"
        },
        "id": "BZw9CBnPRg3B",
        "outputId": "429c8af4-1d20-4012-97d0-0f9b9e09e590"
      },
      "source": [
        "!unzip archive.zip"
      ],
      "execution_count": null,
      "outputs": [
        {
          "output_type": "stream",
          "text": [
            "Archive:  archive.zip\n",
            "  inflating: cropped_images/chris_evans/chris_evans1.png  \n",
            "  inflating: cropped_images/chris_evans/chris_evans10.png  \n",
            "  inflating: cropped_images/chris_evans/chris_evans11.png  \n",
            "  inflating: cropped_images/chris_evans/chris_evans12.png  \n",
            "  inflating: cropped_images/chris_evans/chris_evans13.png  \n",
            "  inflating: cropped_images/chris_evans/chris_evans14.png  \n",
            "  inflating: cropped_images/chris_evans/chris_evans15.png  \n",
            "  inflating: cropped_images/chris_evans/chris_evans16.png  \n",
            "  inflating: cropped_images/chris_evans/chris_evans17.png  \n",
            "  inflating: cropped_images/chris_evans/chris_evans18.png  \n",
            "  inflating: cropped_images/chris_evans/chris_evans19.png  \n",
            "  inflating: cropped_images/chris_evans/chris_evans2.png  \n",
            "  inflating: cropped_images/chris_evans/chris_evans20.png  \n",
            "  inflating: cropped_images/chris_evans/chris_evans21.png  \n",
            "  inflating: cropped_images/chris_evans/chris_evans22.png  \n",
            "  inflating: cropped_images/chris_evans/chris_evans23.png  \n",
            "  inflating: cropped_images/chris_evans/chris_evans24.png  \n",
            "  inflating: cropped_images/chris_evans/chris_evans25.png  \n",
            "  inflating: cropped_images/chris_evans/chris_evans26.png  \n",
            "  inflating: cropped_images/chris_evans/chris_evans27.png  \n",
            "  inflating: cropped_images/chris_evans/chris_evans28.png  \n",
            "  inflating: cropped_images/chris_evans/chris_evans29.png  \n",
            "  inflating: cropped_images/chris_evans/chris_evans3.png  \n",
            "  inflating: cropped_images/chris_evans/chris_evans30.png  \n",
            "  inflating: cropped_images/chris_evans/chris_evans31.png  \n",
            "  inflating: cropped_images/chris_evans/chris_evans32.png  \n",
            "  inflating: cropped_images/chris_evans/chris_evans33.png  \n",
            "  inflating: cropped_images/chris_evans/chris_evans34.png  \n",
            "  inflating: cropped_images/chris_evans/chris_evans35.png  \n",
            "  inflating: cropped_images/chris_evans/chris_evans36.png  \n",
            "  inflating: cropped_images/chris_evans/chris_evans37.png  \n",
            "  inflating: cropped_images/chris_evans/chris_evans38.png  \n",
            "  inflating: cropped_images/chris_evans/chris_evans39.png  \n",
            "  inflating: cropped_images/chris_evans/chris_evans4.png  \n",
            "  inflating: cropped_images/chris_evans/chris_evans40.png  \n",
            "  inflating: cropped_images/chris_evans/chris_evans41.png  \n",
            "  inflating: cropped_images/chris_evans/chris_evans42.png  \n",
            "  inflating: cropped_images/chris_evans/chris_evans43.png  \n",
            "  inflating: cropped_images/chris_evans/chris_evans44.png  \n",
            "  inflating: cropped_images/chris_evans/chris_evans45.png  \n",
            "  inflating: cropped_images/chris_evans/chris_evans46.png  \n",
            "  inflating: cropped_images/chris_evans/chris_evans47.png  \n",
            "  inflating: cropped_images/chris_evans/chris_evans48.png  \n",
            "  inflating: cropped_images/chris_evans/chris_evans49.png  \n",
            "  inflating: cropped_images/chris_evans/chris_evans5.png  \n",
            "  inflating: cropped_images/chris_evans/chris_evans50.png  \n",
            "  inflating: cropped_images/chris_evans/chris_evans6.png  \n",
            "  inflating: cropped_images/chris_evans/chris_evans7.png  \n",
            "  inflating: cropped_images/chris_evans/chris_evans8.png  \n",
            "  inflating: cropped_images/chris_evans/chris_evans9.png  \n",
            "  inflating: cropped_images/chris_hemsworth/chris_hemsworth1.png  \n",
            "  inflating: cropped_images/chris_hemsworth/chris_hemsworth10.png  \n",
            "  inflating: cropped_images/chris_hemsworth/chris_hemsworth11.png  \n",
            "  inflating: cropped_images/chris_hemsworth/chris_hemsworth12.png  \n",
            "  inflating: cropped_images/chris_hemsworth/chris_hemsworth13.png  \n",
            "  inflating: cropped_images/chris_hemsworth/chris_hemsworth14.png  \n",
            "  inflating: cropped_images/chris_hemsworth/chris_hemsworth15.png  \n",
            "  inflating: cropped_images/chris_hemsworth/chris_hemsworth16.png  \n",
            "  inflating: cropped_images/chris_hemsworth/chris_hemsworth17.png  \n",
            "  inflating: cropped_images/chris_hemsworth/chris_hemsworth18.png  \n",
            "  inflating: cropped_images/chris_hemsworth/chris_hemsworth19.png  \n",
            "  inflating: cropped_images/chris_hemsworth/chris_hemsworth2.png  \n",
            "  inflating: cropped_images/chris_hemsworth/chris_hemsworth20.png  \n",
            "  inflating: cropped_images/chris_hemsworth/chris_hemsworth21.png  \n",
            "  inflating: cropped_images/chris_hemsworth/chris_hemsworth22.png  \n",
            "  inflating: cropped_images/chris_hemsworth/chris_hemsworth23.png  \n",
            "  inflating: cropped_images/chris_hemsworth/chris_hemsworth24.png  \n",
            "  inflating: cropped_images/chris_hemsworth/chris_hemsworth25.png  \n",
            "  inflating: cropped_images/chris_hemsworth/chris_hemsworth26.png  \n",
            "  inflating: cropped_images/chris_hemsworth/chris_hemsworth27.png  \n",
            "  inflating: cropped_images/chris_hemsworth/chris_hemsworth28.png  \n",
            "  inflating: cropped_images/chris_hemsworth/chris_hemsworth29.png  \n",
            "  inflating: cropped_images/chris_hemsworth/chris_hemsworth3.png  \n",
            "  inflating: cropped_images/chris_hemsworth/chris_hemsworth30.png  \n",
            "  inflating: cropped_images/chris_hemsworth/chris_hemsworth31.png  \n",
            "  inflating: cropped_images/chris_hemsworth/chris_hemsworth32.png  \n",
            "  inflating: cropped_images/chris_hemsworth/chris_hemsworth33.png  \n",
            "  inflating: cropped_images/chris_hemsworth/chris_hemsworth34.png  \n",
            "  inflating: cropped_images/chris_hemsworth/chris_hemsworth35.png  \n",
            "  inflating: cropped_images/chris_hemsworth/chris_hemsworth36.png  \n",
            "  inflating: cropped_images/chris_hemsworth/chris_hemsworth37.png  \n",
            "  inflating: cropped_images/chris_hemsworth/chris_hemsworth38.png  \n",
            "  inflating: cropped_images/chris_hemsworth/chris_hemsworth39.png  \n",
            "  inflating: cropped_images/chris_hemsworth/chris_hemsworth4.png  \n",
            "  inflating: cropped_images/chris_hemsworth/chris_hemsworth40.png  \n",
            "  inflating: cropped_images/chris_hemsworth/chris_hemsworth41.png  \n",
            "  inflating: cropped_images/chris_hemsworth/chris_hemsworth42.png  \n",
            "  inflating: cropped_images/chris_hemsworth/chris_hemsworth43.png  \n",
            "  inflating: cropped_images/chris_hemsworth/chris_hemsworth44.png  \n",
            "  inflating: cropped_images/chris_hemsworth/chris_hemsworth45.png  \n",
            "  inflating: cropped_images/chris_hemsworth/chris_hemsworth46.png  \n",
            "  inflating: cropped_images/chris_hemsworth/chris_hemsworth47.png  \n",
            "  inflating: cropped_images/chris_hemsworth/chris_hemsworth48.png  \n",
            "  inflating: cropped_images/chris_hemsworth/chris_hemsworth49.png  \n",
            "  inflating: cropped_images/chris_hemsworth/chris_hemsworth5.png  \n",
            "  inflating: cropped_images/chris_hemsworth/chris_hemsworth50.png  \n",
            "  inflating: cropped_images/chris_hemsworth/chris_hemsworth51.png  \n",
            "  inflating: cropped_images/chris_hemsworth/chris_hemsworth52.png  \n",
            "  inflating: cropped_images/chris_hemsworth/chris_hemsworth53.png  \n",
            "  inflating: cropped_images/chris_hemsworth/chris_hemsworth6.png  \n",
            "  inflating: cropped_images/chris_hemsworth/chris_hemsworth7.png  \n",
            "  inflating: cropped_images/chris_hemsworth/chris_hemsworth8.png  \n",
            "  inflating: cropped_images/chris_hemsworth/chris_hemsworth9.png  \n",
            "  inflating: cropped_images/mark_ruffalo/mark_ruffalo1.png  \n",
            "  inflating: cropped_images/mark_ruffalo/mark_ruffalo10.png  \n",
            "  inflating: cropped_images/mark_ruffalo/mark_ruffalo11.png  \n",
            "  inflating: cropped_images/mark_ruffalo/mark_ruffalo12.png  \n",
            "  inflating: cropped_images/mark_ruffalo/mark_ruffalo13.png  \n",
            "  inflating: cropped_images/mark_ruffalo/mark_ruffalo14.png  \n",
            "  inflating: cropped_images/mark_ruffalo/mark_ruffalo15.png  \n",
            "  inflating: cropped_images/mark_ruffalo/mark_ruffalo16.png  \n",
            "  inflating: cropped_images/mark_ruffalo/mark_ruffalo17.png  \n",
            "  inflating: cropped_images/mark_ruffalo/mark_ruffalo18.png  \n",
            "  inflating: cropped_images/mark_ruffalo/mark_ruffalo19.png  \n",
            "  inflating: cropped_images/mark_ruffalo/mark_ruffalo2.png  \n",
            "  inflating: cropped_images/mark_ruffalo/mark_ruffalo20.png  \n",
            "  inflating: cropped_images/mark_ruffalo/mark_ruffalo21.png  \n",
            "  inflating: cropped_images/mark_ruffalo/mark_ruffalo22.png  \n",
            "  inflating: cropped_images/mark_ruffalo/mark_ruffalo23.png  \n",
            "  inflating: cropped_images/mark_ruffalo/mark_ruffalo24.png  \n",
            "  inflating: cropped_images/mark_ruffalo/mark_ruffalo25.png  \n",
            "  inflating: cropped_images/mark_ruffalo/mark_ruffalo26.png  \n",
            "  inflating: cropped_images/mark_ruffalo/mark_ruffalo27.png  \n",
            "  inflating: cropped_images/mark_ruffalo/mark_ruffalo28.png  \n",
            "  inflating: cropped_images/mark_ruffalo/mark_ruffalo29.png  \n",
            "  inflating: cropped_images/mark_ruffalo/mark_ruffalo3.png  \n",
            "  inflating: cropped_images/mark_ruffalo/mark_ruffalo30.png  \n",
            "  inflating: cropped_images/mark_ruffalo/mark_ruffalo31.png  \n",
            "  inflating: cropped_images/mark_ruffalo/mark_ruffalo32.png  \n",
            "  inflating: cropped_images/mark_ruffalo/mark_ruffalo33.png  \n",
            "  inflating: cropped_images/mark_ruffalo/mark_ruffalo34.png  \n",
            "  inflating: cropped_images/mark_ruffalo/mark_ruffalo35.png  \n",
            "  inflating: cropped_images/mark_ruffalo/mark_ruffalo36.png  \n",
            "  inflating: cropped_images/mark_ruffalo/mark_ruffalo37.png  \n",
            "  inflating: cropped_images/mark_ruffalo/mark_ruffalo38.png  \n",
            "  inflating: cropped_images/mark_ruffalo/mark_ruffalo39.png  \n",
            "  inflating: cropped_images/mark_ruffalo/mark_ruffalo4.png  \n",
            "  inflating: cropped_images/mark_ruffalo/mark_ruffalo40.png  \n",
            "  inflating: cropped_images/mark_ruffalo/mark_ruffalo41.png  \n",
            "  inflating: cropped_images/mark_ruffalo/mark_ruffalo42.png  \n",
            "  inflating: cropped_images/mark_ruffalo/mark_ruffalo43.png  \n",
            "  inflating: cropped_images/mark_ruffalo/mark_ruffalo44.png  \n",
            "  inflating: cropped_images/mark_ruffalo/mark_ruffalo45.png  \n",
            "  inflating: cropped_images/mark_ruffalo/mark_ruffalo46.png  \n",
            "  inflating: cropped_images/mark_ruffalo/mark_ruffalo47.png  \n",
            "  inflating: cropped_images/mark_ruffalo/mark_ruffalo48.png  \n",
            "  inflating: cropped_images/mark_ruffalo/mark_ruffalo49.png  \n",
            "  inflating: cropped_images/mark_ruffalo/mark_ruffalo5.png  \n",
            "  inflating: cropped_images/mark_ruffalo/mark_ruffalo50.png  \n",
            "  inflating: cropped_images/mark_ruffalo/mark_ruffalo51.png  \n",
            "  inflating: cropped_images/mark_ruffalo/mark_ruffalo52.png  \n",
            "  inflating: cropped_images/mark_ruffalo/mark_ruffalo53.png  \n",
            "  inflating: cropped_images/mark_ruffalo/mark_ruffalo54.png  \n",
            "  inflating: cropped_images/mark_ruffalo/mark_ruffalo55.png  \n",
            "  inflating: cropped_images/mark_ruffalo/mark_ruffalo56.png  \n",
            "  inflating: cropped_images/mark_ruffalo/mark_ruffalo57.png  \n",
            "  inflating: cropped_images/mark_ruffalo/mark_ruffalo58.png  \n",
            "  inflating: cropped_images/mark_ruffalo/mark_ruffalo59.png  \n",
            "  inflating: cropped_images/mark_ruffalo/mark_ruffalo6.png  \n",
            "  inflating: cropped_images/mark_ruffalo/mark_ruffalo60.png  \n",
            "  inflating: cropped_images/mark_ruffalo/mark_ruffalo61.png  \n",
            "  inflating: cropped_images/mark_ruffalo/mark_ruffalo62.png  \n",
            "  inflating: cropped_images/mark_ruffalo/mark_ruffalo63.png  \n",
            "  inflating: cropped_images/mark_ruffalo/mark_ruffalo64.png  \n",
            "  inflating: cropped_images/mark_ruffalo/mark_ruffalo65.png  \n",
            "  inflating: cropped_images/mark_ruffalo/mark_ruffalo66.png  \n",
            "  inflating: cropped_images/mark_ruffalo/mark_ruffalo7.png  \n",
            "  inflating: cropped_images/mark_ruffalo/mark_ruffalo8.png  \n",
            "  inflating: cropped_images/mark_ruffalo/mark_ruffalo9.png  \n",
            "  inflating: cropped_images/robert_downey_jr/robert_downey_jr1.png  \n",
            "  inflating: cropped_images/robert_downey_jr/robert_downey_jr10.png  \n",
            "  inflating: cropped_images/robert_downey_jr/robert_downey_jr11.png  \n",
            "  inflating: cropped_images/robert_downey_jr/robert_downey_jr12.png  \n",
            "  inflating: cropped_images/robert_downey_jr/robert_downey_jr13.png  \n",
            "  inflating: cropped_images/robert_downey_jr/robert_downey_jr14.png  \n",
            "  inflating: cropped_images/robert_downey_jr/robert_downey_jr15.png  \n",
            "  inflating: cropped_images/robert_downey_jr/robert_downey_jr16.png  \n",
            "  inflating: cropped_images/robert_downey_jr/robert_downey_jr17.png  \n",
            "  inflating: cropped_images/robert_downey_jr/robert_downey_jr18.png  \n",
            "  inflating: cropped_images/robert_downey_jr/robert_downey_jr19.png  \n",
            "  inflating: cropped_images/robert_downey_jr/robert_downey_jr2.png  \n",
            "  inflating: cropped_images/robert_downey_jr/robert_downey_jr20.png  \n",
            "  inflating: cropped_images/robert_downey_jr/robert_downey_jr21.png  \n",
            "  inflating: cropped_images/robert_downey_jr/robert_downey_jr22.png  \n",
            "  inflating: cropped_images/robert_downey_jr/robert_downey_jr23.png  \n",
            "  inflating: cropped_images/robert_downey_jr/robert_downey_jr24.png  \n",
            "  inflating: cropped_images/robert_downey_jr/robert_downey_jr25.png  \n",
            "  inflating: cropped_images/robert_downey_jr/robert_downey_jr26.png  \n",
            "  inflating: cropped_images/robert_downey_jr/robert_downey_jr27.png  \n",
            "  inflating: cropped_images/robert_downey_jr/robert_downey_jr28.png  \n",
            "  inflating: cropped_images/robert_downey_jr/robert_downey_jr29.png  \n",
            "  inflating: cropped_images/robert_downey_jr/robert_downey_jr3.png  \n",
            "  inflating: cropped_images/robert_downey_jr/robert_downey_jr30.png  \n",
            "  inflating: cropped_images/robert_downey_jr/robert_downey_jr31.png  \n",
            "  inflating: cropped_images/robert_downey_jr/robert_downey_jr32.png  \n",
            "  inflating: cropped_images/robert_downey_jr/robert_downey_jr33.png  \n",
            "  inflating: cropped_images/robert_downey_jr/robert_downey_jr34.png  \n",
            "  inflating: cropped_images/robert_downey_jr/robert_downey_jr35.png  \n",
            "  inflating: cropped_images/robert_downey_jr/robert_downey_jr36.png  \n",
            "  inflating: cropped_images/robert_downey_jr/robert_downey_jr37.png  \n",
            "  inflating: cropped_images/robert_downey_jr/robert_downey_jr38.png  \n",
            "  inflating: cropped_images/robert_downey_jr/robert_downey_jr39.png  \n",
            "  inflating: cropped_images/robert_downey_jr/robert_downey_jr4.png  \n",
            "  inflating: cropped_images/robert_downey_jr/robert_downey_jr40.png  \n",
            "  inflating: cropped_images/robert_downey_jr/robert_downey_jr41.png  \n",
            "  inflating: cropped_images/robert_downey_jr/robert_downey_jr42.png  \n",
            "  inflating: cropped_images/robert_downey_jr/robert_downey_jr43.png  \n",
            "  inflating: cropped_images/robert_downey_jr/robert_downey_jr44.png  \n",
            "  inflating: cropped_images/robert_downey_jr/robert_downey_jr45.png  \n",
            "  inflating: cropped_images/robert_downey_jr/robert_downey_jr46.png  \n",
            "  inflating: cropped_images/robert_downey_jr/robert_downey_jr47.png  \n",
            "  inflating: cropped_images/robert_downey_jr/robert_downey_jr48.png  \n",
            "  inflating: cropped_images/robert_downey_jr/robert_downey_jr49.png  \n",
            "  inflating: cropped_images/robert_downey_jr/robert_downey_jr5.png  \n",
            "  inflating: cropped_images/robert_downey_jr/robert_downey_jr50.png  \n",
            "  inflating: cropped_images/robert_downey_jr/robert_downey_jr51.png  \n",
            "  inflating: cropped_images/robert_downey_jr/robert_downey_jr6.png  \n",
            "  inflating: cropped_images/robert_downey_jr/robert_downey_jr7.png  \n",
            "  inflating: cropped_images/robert_downey_jr/robert_downey_jr8.png  \n",
            "  inflating: cropped_images/robert_downey_jr/robert_downey_jr9.png  \n",
            "  inflating: cropped_images/scarlett_johansson/scarlett_johansson1.png  \n",
            "  inflating: cropped_images/scarlett_johansson/scarlett_johansson10.png  \n",
            "  inflating: cropped_images/scarlett_johansson/scarlett_johansson11.png  \n",
            "  inflating: cropped_images/scarlett_johansson/scarlett_johansson12.png  \n",
            "  inflating: cropped_images/scarlett_johansson/scarlett_johansson13.png  \n",
            "  inflating: cropped_images/scarlett_johansson/scarlett_johansson14.png  \n",
            "  inflating: cropped_images/scarlett_johansson/scarlett_johansson15.png  \n",
            "  inflating: cropped_images/scarlett_johansson/scarlett_johansson16.png  \n",
            "  inflating: cropped_images/scarlett_johansson/scarlett_johansson17.png  \n",
            "  inflating: cropped_images/scarlett_johansson/scarlett_johansson18.png  \n",
            "  inflating: cropped_images/scarlett_johansson/scarlett_johansson19.png  \n",
            "  inflating: cropped_images/scarlett_johansson/scarlett_johansson2.png  \n",
            "  inflating: cropped_images/scarlett_johansson/scarlett_johansson20.png  \n",
            "  inflating: cropped_images/scarlett_johansson/scarlett_johansson21.png  \n",
            "  inflating: cropped_images/scarlett_johansson/scarlett_johansson22.png  \n",
            "  inflating: cropped_images/scarlett_johansson/scarlett_johansson23.png  \n",
            "  inflating: cropped_images/scarlett_johansson/scarlett_johansson24.png  \n",
            "  inflating: cropped_images/scarlett_johansson/scarlett_johansson25.png  \n",
            "  inflating: cropped_images/scarlett_johansson/scarlett_johansson26.png  \n",
            "  inflating: cropped_images/scarlett_johansson/scarlett_johansson27.png  \n",
            "  inflating: cropped_images/scarlett_johansson/scarlett_johansson28.png  \n",
            "  inflating: cropped_images/scarlett_johansson/scarlett_johansson29.png  \n",
            "  inflating: cropped_images/scarlett_johansson/scarlett_johansson3.png  \n",
            "  inflating: cropped_images/scarlett_johansson/scarlett_johansson30.png  \n",
            "  inflating: cropped_images/scarlett_johansson/scarlett_johansson31.png  \n",
            "  inflating: cropped_images/scarlett_johansson/scarlett_johansson32.png  \n",
            "  inflating: cropped_images/scarlett_johansson/scarlett_johansson33.png  \n",
            "  inflating: cropped_images/scarlett_johansson/scarlett_johansson34.png  \n",
            "  inflating: cropped_images/scarlett_johansson/scarlett_johansson35.png  \n",
            "  inflating: cropped_images/scarlett_johansson/scarlett_johansson36.png  \n",
            "  inflating: cropped_images/scarlett_johansson/scarlett_johansson37.png  \n",
            "  inflating: cropped_images/scarlett_johansson/scarlett_johansson38.png  \n",
            "  inflating: cropped_images/scarlett_johansson/scarlett_johansson39.png  \n",
            "  inflating: cropped_images/scarlett_johansson/scarlett_johansson4.png  \n",
            "  inflating: cropped_images/scarlett_johansson/scarlett_johansson40.png  \n",
            "  inflating: cropped_images/scarlett_johansson/scarlett_johansson41.png  \n",
            "  inflating: cropped_images/scarlett_johansson/scarlett_johansson42.png  \n",
            "  inflating: cropped_images/scarlett_johansson/scarlett_johansson43.png  \n",
            "  inflating: cropped_images/scarlett_johansson/scarlett_johansson44.png  \n",
            "  inflating: cropped_images/scarlett_johansson/scarlett_johansson45.png  \n",
            "  inflating: cropped_images/scarlett_johansson/scarlett_johansson46.png  \n",
            "  inflating: cropped_images/scarlett_johansson/scarlett_johansson47.png  \n",
            "  inflating: cropped_images/scarlett_johansson/scarlett_johansson48.png  \n",
            "  inflating: cropped_images/scarlett_johansson/scarlett_johansson49.png  \n",
            "  inflating: cropped_images/scarlett_johansson/scarlett_johansson5.png  \n",
            "  inflating: cropped_images/scarlett_johansson/scarlett_johansson50.png  \n",
            "  inflating: cropped_images/scarlett_johansson/scarlett_johansson51.png  \n",
            "  inflating: cropped_images/scarlett_johansson/scarlett_johansson52.png  \n",
            "  inflating: cropped_images/scarlett_johansson/scarlett_johansson53.png  \n",
            "  inflating: cropped_images/scarlett_johansson/scarlett_johansson54.png  \n",
            "  inflating: cropped_images/scarlett_johansson/scarlett_johansson6.png  \n",
            "  inflating: cropped_images/scarlett_johansson/scarlett_johansson7.png  \n",
            "  inflating: cropped_images/scarlett_johansson/scarlett_johansson8.png  \n",
            "  inflating: cropped_images/scarlett_johansson/scarlett_johansson9.png  \n"
          ],
          "name": "stdout"
        }
      ]
    },
    {
      "cell_type": "code",
      "metadata": {
        "colab": {
          "base_uri": "https://localhost:8080/"
        },
        "id": "piXzJjMRS9I0",
        "outputId": "2f41a0e6-12be-45eb-fbf8-2ddc8a3a6206"
      },
      "source": [
        "!pip install face_recognition"
      ],
      "execution_count": null,
      "outputs": [
        {
          "output_type": "stream",
          "text": [
            "Collecting face_recognition\n",
            "  Downloading https://files.pythonhosted.org/packages/1e/95/f6c9330f54ab07bfa032bf3715c12455a381083125d8880c43cbe76bb3d0/face_recognition-1.3.0-py2.py3-none-any.whl\n",
            "Requirement already satisfied: Pillow in /usr/local/lib/python3.7/dist-packages (from face_recognition) (7.1.2)\n",
            "Requirement already satisfied: dlib>=19.7 in /usr/local/lib/python3.7/dist-packages (from face_recognition) (19.18.0)\n",
            "Collecting face-recognition-models>=0.3.0\n",
            "\u001b[?25l  Downloading https://files.pythonhosted.org/packages/cf/3b/4fd8c534f6c0d1b80ce0973d01331525538045084c73c153ee6df20224cf/face_recognition_models-0.3.0.tar.gz (100.1MB)\n",
            "\u001b[K     |████████████████████████████████| 100.2MB 44kB/s \n",
            "\u001b[?25hRequirement already satisfied: numpy in /usr/local/lib/python3.7/dist-packages (from face_recognition) (1.19.5)\n",
            "Requirement already satisfied: Click>=6.0 in /usr/local/lib/python3.7/dist-packages (from face_recognition) (7.1.2)\n",
            "Building wheels for collected packages: face-recognition-models\n",
            "  Building wheel for face-recognition-models (setup.py) ... \u001b[?25l\u001b[?25hdone\n",
            "  Created wheel for face-recognition-models: filename=face_recognition_models-0.3.0-py2.py3-none-any.whl size=100566173 sha256=9985799b5a986847b17fb0ba5c03c4238c18ce9d2843b8d0642ad0d142f5a787\n",
            "  Stored in directory: /root/.cache/pip/wheels/d2/99/18/59c6c8f01e39810415c0e63f5bede7d83dfb0ffc039865465f\n",
            "Successfully built face-recognition-models\n",
            "Installing collected packages: face-recognition-models, face-recognition\n",
            "Successfully installed face-recognition-1.3.0 face-recognition-models-0.3.0\n"
          ],
          "name": "stdout"
        }
      ]
    },
    {
      "cell_type": "code",
      "metadata": {
        "id": "TLTpNlN9TPoE"
      },
      "source": [
        "import face_recognition\n",
        "import sklearn\n",
        "from sklearn import svm\n",
        "import os\n",
        "from sklearn.model_selection import train_test_split\n",
        "from sklearn.metrics import accuracy_score\n",
        "import pickle\n",
        "import numpy as np"
      ],
      "execution_count": null,
      "outputs": []
    },
    {
      "cell_type": "code",
      "metadata": {
        "colab": {
          "base_uri": "https://localhost:8080/"
        },
        "id": "H5J26JNTTMVj",
        "outputId": "451292e3-9549-4b27-ca4e-780bd84f5bc5"
      },
      "source": [
        "# Train multiple images per person\n",
        "# Find and recognize faces in an image using a SVC with scikit-learn\n",
        "\n",
        "\"\"\"\n",
        "Structure:\n",
        "        <test_image>.jpg\n",
        "        <train_dir>/\n",
        "            <person_1>/\n",
        "                <person_1_face-1>.jpg\n",
        "                <person_1_face-2>.jpg\n",
        "                .\n",
        "                .\n",
        "                <person_1_face-n>.jpg\n",
        "           <person_2>/\n",
        "                <person_2_face-1>.jpg\n",
        "                <person_2_face-2>.jpg\n",
        "                .\n",
        "                .\n",
        "                <person_2_face-n>.jpg\n",
        "            .\n",
        "            .\n",
        "            <person_n>/\n",
        "                <person_n_face-1>.jpg\n",
        "                <person_n_face-2>.jpg\n",
        "                .\n",
        "                .\n",
        "                <person_n_face-n>.jpg\n",
        "\"\"\"\n",
        "\n",
        "\n",
        "# Training the SVC classifier\n",
        "\n",
        "# The training data would be all the face encodings from all the known images and the labels are their names\n",
        "encodings = []\n",
        "names = []\n",
        "\n",
        "train_dir_path='/content/cropped_images/'\n",
        "# Training directory\n",
        "train_dir = os.listdir(train_dir_path)\n",
        "\n",
        "# Loop through each person in the training directory\n",
        "for person in train_dir:\n",
        "    pix = os.listdir(train_dir_path + person)\n",
        "\n",
        "    # Loop through each training image for the current person\n",
        "    for person_img in pix:\n",
        "        # Get the face encodings for the face in each image file\n",
        "        face = face_recognition.load_image_file(train_dir_path + person + \"/\" + person_img)\n",
        "        face_bounding_boxes = face_recognition.face_locations(face)\n",
        "\n",
        "        #If training image contains exactly one face\n",
        "        if len(face_bounding_boxes) == 1:\n",
        "            face_enc = face_recognition.face_encodings(face)[0]\n",
        "            # Add face encoding for current image with corresponding label (name) to the training data\n",
        "            encodings.append(face_enc)\n",
        "            names.append(person)\n",
        "        else:\n",
        "            print(person + \"/\" + person_img + \" was skipped and can't be used for training\")\n",
        "\n",
        "\n"
      ],
      "execution_count": null,
      "outputs": [
        {
          "output_type": "stream",
          "text": [
            "chris_hemsworth/chris_hemsworth45.png was skipped and can't be used for training\n",
            "chris_evans/chris_evans50.png was skipped and can't be used for training\n",
            "chris_evans/chris_evans32.png was skipped and can't be used for training\n",
            "robert_downey_jr/robert_downey_jr33.png was skipped and can't be used for training\n",
            "robert_downey_jr/robert_downey_jr7.png was skipped and can't be used for training\n"
          ],
          "name": "stdout"
        }
      ]
    },
    {
      "cell_type": "code",
      "metadata": {
        "id": "tP9NFKXSUECq"
      },
      "source": [
        "X,y=encodings,names\n",
        "X_train, X_test, y_train, y_test = train_test_split(X, y, \n",
        "                                                    test_size=0.2)\n"
      ],
      "execution_count": null,
      "outputs": []
    },
    {
      "cell_type": "code",
      "metadata": {
        "colab": {
          "base_uri": "https://localhost:8080/"
        },
        "id": "dGI_hib3VM4e",
        "outputId": "5bb54175-7504-4261-82aa-042a12716302"
      },
      "source": [
        "# Create and train the SVC classifier\n",
        "clf = svm.SVC(gamma='scale')\n",
        "clf.fit(X_train,y_train)"
      ],
      "execution_count": null,
      "outputs": [
        {
          "output_type": "execute_result",
          "data": {
            "text/plain": [
              "SVC(C=1.0, break_ties=False, cache_size=200, class_weight=None, coef0=0.0,\n",
              "    decision_function_shape='ovr', degree=3, gamma='scale', kernel='rbf',\n",
              "    max_iter=-1, probability=False, random_state=None, shrinking=True,\n",
              "    tol=0.001, verbose=False)"
            ]
          },
          "metadata": {
            "tags": []
          },
          "execution_count": 34
        }
      ]
    },
    {
      "cell_type": "code",
      "metadata": {
        "id": "YozUv6lMVWLo"
      },
      "source": [
        "y_pred=clf.predict(X_test)"
      ],
      "execution_count": null,
      "outputs": []
    },
    {
      "cell_type": "code",
      "metadata": {
        "colab": {
          "base_uri": "https://localhost:8080/"
        },
        "id": "45xbz-YvVz64",
        "outputId": "2313caf7-ce9d-4c91-bd5b-66bd0ae91f8a"
      },
      "source": [
        "y_true=y_test\n",
        "print(accuracy_score(y_true, y_pred))"
      ],
      "execution_count": null,
      "outputs": [
        {
          "output_type": "stream",
          "text": [
            "1.0\n"
          ],
          "name": "stdout"
        }
      ]
    },
    {
      "cell_type": "code",
      "metadata": {
        "id": "i6bzROc5WFBT",
        "colab": {
          "base_uri": "https://localhost:8080/"
        },
        "outputId": "6b18a85e-a459-401f-9c13-2b9bef335596"
      },
      "source": [
        "print(\"True\",'=>',\"Predicted\")\n",
        "for x,y in zip(y_true,y_pred):print(x,'=>',y)"
      ],
      "execution_count": null,
      "outputs": [
        {
          "output_type": "stream",
          "text": [
            "True => Predicted\n",
            "robert_downey_jr => robert_downey_jr\n",
            "scarlett_johansson => scarlett_johansson\n",
            "chris_evans => chris_evans\n",
            "scarlett_johansson => scarlett_johansson\n",
            "chris_hemsworth => chris_hemsworth\n",
            "chris_hemsworth => chris_hemsworth\n",
            "chris_hemsworth => chris_hemsworth\n",
            "chris_evans => chris_evans\n",
            "mark_ruffalo => mark_ruffalo\n",
            "mark_ruffalo => mark_ruffalo\n",
            "mark_ruffalo => mark_ruffalo\n",
            "chris_evans => chris_evans\n",
            "robert_downey_jr => robert_downey_jr\n",
            "mark_ruffalo => mark_ruffalo\n",
            "scarlett_johansson => scarlett_johansson\n",
            "chris_evans => chris_evans\n",
            "robert_downey_jr => robert_downey_jr\n",
            "chris_hemsworth => chris_hemsworth\n",
            "robert_downey_jr => robert_downey_jr\n",
            "scarlett_johansson => scarlett_johansson\n",
            "mark_ruffalo => mark_ruffalo\n",
            "robert_downey_jr => robert_downey_jr\n",
            "chris_evans => chris_evans\n",
            "chris_hemsworth => chris_hemsworth\n",
            "robert_downey_jr => robert_downey_jr\n",
            "robert_downey_jr => robert_downey_jr\n",
            "mark_ruffalo => mark_ruffalo\n",
            "mark_ruffalo => mark_ruffalo\n",
            "chris_hemsworth => chris_hemsworth\n",
            "mark_ruffalo => mark_ruffalo\n",
            "chris_hemsworth => chris_hemsworth\n",
            "chris_hemsworth => chris_hemsworth\n",
            "scarlett_johansson => scarlett_johansson\n",
            "robert_downey_jr => robert_downey_jr\n",
            "chris_evans => chris_evans\n",
            "chris_evans => chris_evans\n",
            "mark_ruffalo => mark_ruffalo\n",
            "mark_ruffalo => mark_ruffalo\n",
            "chris_hemsworth => chris_hemsworth\n",
            "mark_ruffalo => mark_ruffalo\n",
            "scarlett_johansson => scarlett_johansson\n",
            "chris_evans => chris_evans\n",
            "chris_hemsworth => chris_hemsworth\n",
            "robert_downey_jr => robert_downey_jr\n",
            "chris_hemsworth => chris_hemsworth\n",
            "chris_evans => chris_evans\n",
            "chris_evans => chris_evans\n",
            "chris_hemsworth => chris_hemsworth\n",
            "chris_hemsworth => chris_hemsworth\n",
            "chris_hemsworth => chris_hemsworth\n",
            "chris_hemsworth => chris_hemsworth\n",
            "mark_ruffalo => mark_ruffalo\n",
            "chris_evans => chris_evans\n",
            "robert_downey_jr => robert_downey_jr\n"
          ],
          "name": "stdout"
        }
      ]
    },
    {
      "cell_type": "code",
      "metadata": {
        "id": "nIMVDDTtWwKK"
      },
      "source": [
        "list_pickle_path = 'model_pickle.pkl'\n",
        " \n",
        "# Create an variable to pickle and open it in write mode\n",
        "list_pickle = open(list_pickle_path, 'wb')\n",
        "pickle.dump(clf, list_pickle)\n",
        "list_pickle.close()"
      ],
      "execution_count": null,
      "outputs": []
    },
    {
      "cell_type": "code",
      "metadata": {
        "id": "9y_y-oYcTpqR"
      },
      "source": [
        "\n",
        "list_pickle_path = '/content/model_pickle.pkl'\n",
        "list_unpickle = open(list_pickle_path, 'rb')\n",
        " \n",
        "# load the unpickle object into a variable\n",
        "clf = pickle.load(list_unpickle)"
      ],
      "execution_count": null,
      "outputs": []
    },
    {
      "cell_type": "code",
      "metadata": {
        "colab": {
          "base_uri": "https://localhost:8080/"
        },
        "id": "mhYhvNNUUVxm",
        "outputId": "6fb1e5c9-0b65-425c-8760-7e5edbf63222"
      },
      "source": [
        "print(clf)"
      ],
      "execution_count": null,
      "outputs": [
        {
          "output_type": "stream",
          "text": [
            "SVC(C=1.0, break_ties=False, cache_size=200, class_weight=None, coef0=0.0,\n",
            "    decision_function_shape='ovr', degree=3, gamma='scale', kernel='rbf',\n",
            "    max_iter=-1, probability=False, random_state=None, shrinking=True,\n",
            "    tol=0.001, verbose=False)\n"
          ],
          "name": "stdout"
        }
      ]
    },
    {
      "cell_type": "code",
      "metadata": {
        "id": "RnrOAaKBUWC7"
      },
      "source": [
        "#test_image_path=\"your/test/image/here.jpg\"\n",
        "#test_image_path=\"/content/markzuckerberg.jpg\"\n",
        "#face_names = []"
      ],
      "execution_count": null,
      "outputs": []
    },
    {
      "cell_type": "code",
      "metadata": {
        "colab": {
          "base_uri": "https://localhost:8080/"
        },
        "id": "-TIgUkzVaZn-",
        "outputId": "ba84515e-ab52-4461-89b8-96c38a818728"
      },
      "source": [
        "test_image_path=\"/content/markruffalo.jpg\"\n",
        "known_face_encodings=encodings\n",
        "known_face_names=names\n",
        "face_names=[]\n",
        "test_image = face_recognition.load_image_file(test_image_path)\n",
        "test_face_encodings = face_recognition.face_encodings(test_image)\n",
        "for face_encoding in test_face_encodings:\n",
        "  matches = face_recognition.compare_faces(known_face_encodings, face_encoding)\n",
        "  name = \"Unknown\"\n",
        "  # Or instead, use the known face with the smallest distance to the new face\n",
        "  face_distances = face_recognition.face_distance(known_face_encodings, face_encoding)\n",
        "  best_match_index = np.argmin(face_distances)\n",
        "  if matches[best_match_index]:name = known_face_names[best_match_index]\n",
        "  face_names.append(name)\n",
        "print(\"All faces found in an image for test_image are:-\")\n",
        "if face_names==[]:print(\"unknown\")\n",
        "else:print(*face_names)\n",
        "\n",
        "    \n",
        "\n",
        "\n"
      ],
      "execution_count": null,
      "outputs": [
        {
          "output_type": "stream",
          "text": [
            "All faces found in an image for test_image are:-\n",
            "mark_ruffalo\n"
          ],
          "name": "stdout"
        }
      ]
    },
    {
      "cell_type": "code",
      "metadata": {
        "colab": {
          "base_uri": "https://localhost:8080/"
        },
        "id": "2n6kIY9Dair9",
        "outputId": "a7184b35-d095-437e-d8f3-0f931adf8787"
      },
      "source": [
        "test_image_path=\"/content/markzuckerberg.jpg\"\n",
        "known_face_encodings=encodings\n",
        "known_face_names=names\n",
        "face_names=[]\n",
        "test_image = face_recognition.load_image_file(test_image_path)\n",
        "test_face_encodings = face_recognition.face_encodings(test_image)\n",
        "for face_encoding in test_face_encodings:\n",
        "  matches = face_recognition.compare_faces(known_face_encodings, face_encoding)\n",
        "  name = \"Unknown\"\n",
        "  # Or instead, use the known face with the smallest distance to the new face\n",
        "  face_distances = face_recognition.face_distance(known_face_encodings, face_encoding)\n",
        "  best_match_index = np.argmin(face_distances)\n",
        "  if matches[best_match_index]:name = known_face_names[best_match_index]\n",
        "  face_names.append(name)\n",
        "print(\"All faces found in an image for test_image are:-\")\n",
        "if face_names==[]:print(\"unknown\")\n",
        "else:print(*face_names)\n",
        "\n",
        "    \n",
        "\n",
        "\n"
      ],
      "execution_count": null,
      "outputs": [
        {
          "output_type": "stream",
          "text": [
            "All faces found in an image for test_image are:-\n",
            "Unknown\n"
          ],
          "name": "stdout"
        }
      ]
    }
  ]
}